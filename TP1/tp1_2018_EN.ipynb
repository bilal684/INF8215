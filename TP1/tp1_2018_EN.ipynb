{
 "cells": [
  {
   "cell_type": "markdown",
   "metadata": {
    "colab_type": "text",
    "id": "7cRcaduOsoAJ"
   },
   "source": [
    "# INF 8215 - Intelligence artif.: méthodes et algorithmes \n",
    "## Fall 2018 - TP1 - Research Methods \n",
    "### Team Components\n",
    "    - Mohammed Essedik Ben Yahia (1862313)\n",
    "    - Bilal Itani (1743175)\n",
    "    - Xiangyi Zhang (1924288)\n",
    "\n",
    "\n",
    "\n",
    "## Biking in Montreal\n",
    "Approximately 10 million tourists visit Montreal every year. Concerned in providing the best experience during their stay, the tourism department of the city has initialized the development of a new application to help the visitors meet the main touristic attractions of the city in the shortest amount of time. They discovered that, when visiting the city’s attractions, the preferred mean of transportation adopted by the tourists is the bicycle. However, since the tourists do not know the city very well, they usually struggle to create their route in order to visit the planned sights for the day. Thus, given a list of places that the tourist wants to visit, including a starting and ending location, the new application determines the itinerary that passes only once in all attractions defined by the user such that the time spent within his/her route is minimum. \n",
    "\n",
    "<img src=\"images/montreal.png\" alt=\"\" width=\"800\"/>\n",
    "\n",
    "Our job in this TP is to develop this new application. To this end, we will address the problem using three different research methods:\n",
    "1. The first methodology works by defining and exploring a search tree in order to find the route with minimum time\n",
    "2. Next, an A* algorithm will be designed to search the optimal route in this search tree more efficiently \n",
    "3. Last, a heuristic procedure will be created using the Variable Neighborhood Search (VNS) metaheuristic to optimize the problem\n",
    "\n",
    "## Problem representation\n",
    "\n",
    "We can represent our problem using a directed and complete graph, $G(V, A)$, where each city attraction is represented by a vertex in the set of vertices $V$, and $A$ is the set of arcs representing the bicycle path between two attractions. Each arc $a_{ij} \\in A$ has a cost $ w(a_{ij}) $ associated with the time spent on the path from attraction $i$ to attraction $j$. However, it is worth mentioning that the times are not symmetric, hence, is **not** guaranteed that $w(a_{ij}) = w(a_{ji})$. \n",
    "\n",
    "The user of the tool informs the list of $m$ attractions that he/she wishes to visit, $P = \\{p_1,...,p_m\\} $, where $p_1$ and $p_m$ are the starting and ending attractions, respectively.\n",
    "\n",
    "## 1. Defining and exploring a search tree\n",
    "\n",
    "Let us define a search tree, $\\mathcal{T}$, where each node of this tree represents a solution $S$ that is being built. Moreover, let $V(S) \\subseteq V$ be the set of vertices already **visited** and $A(S) \\subset A$ the set of arcs already **selected**. Thus, the cost of $S$ is given by\n",
    "\n",
    "$$g(S) = \\sum_{a \\in A(S)} w(a)$$\n",
    "\n",
    "The root node of the search tree $\\mathcal{T}$ is a solution $S_{root}$ containing only the starting vertex marked as visited, i.e., $V(S_{root})=\\{p_1\\}$ and $A(S_{root}) = \\emptyset$.\n",
    "\n",
    "<img src=\"images/tree1.png\" alt=\"\" width=\"100\"/>\n",
    "\n",
    "Then, children nodes are created by adding an arc from $p_1$ to every vertex $ v \\in P\\backslash V(S_{root})$. However, an arc to the ending attraction can only be added if $p_m$ is the only vertex not visited yet. We denote the new visited vertex as $c$, the current vertex of the solution, i.e., $V(S) \\gets V(S) \\cup \\{c\\}$. \n",
    "\n",
    "<img src=\"images/tree2.png\" alt=\"\" width=\"400\"/>\n",
    "\n",
    "Next, each child node similarly generates its children. For a given child solution $S$ with last added vertex $c$, we add an arc $(c, v)$ to every vertex $v \\in P\\backslash V(S)$. The constraint to add vertex $p_m$ to the solution is kept during the entire process.\n",
    "\n",
    "<img src=\"images/tree3.png\" alt=\"\" width=\"600\"/>\n",
    "\n",
    "The leaf nodes are complete solutions, i.e., $V(S) = P$, with $p_m$ being the last attraction added to the itinerary.  \n",
    "\n",
    "### 1.1 Time to code\n",
    "\n",
    "The code cell below is provided to you with a function to read the graph representing the attractions of Montreal. The function $\\mathtt{read\\_graph}$ returns a numpy array object $|V|\\times |V|$ where the entry $\\mathtt{graph[i,j]}$ contains the time spent biking from attraction $i$ to attraction $j$.\n",
    "\n"
   ]
  },
  {
   "cell_type": "code",
   "execution_count": 1,
   "metadata": {},
   "outputs": [],
   "source": [
    "import numpy as np\n",
    "\n",
    "def read_graph():\n",
    "    return np.loadtxt(\"montreal\", dtype='i', delimiter=',')\n",
    "\n",
    "graph = read_graph()"
   ]
  },
  {
   "cell_type": "markdown",
   "metadata": {},
   "source": [
    "Our first implementation task is to code the class that represents a solution. The code of class Solution below has a constructor (already implemented) that receives the list of $\\mathtt{places}$ representing the set of attractions $P$ and the graph $G$, and creates a blank solution by initializing the following variables:\n",
    "\n",
    "- $\\mathtt{g}$: stores the cost of the solution\n",
    "- $\\mathtt{c}$: indicate the index of the current (last added) vertex of the solution\n",
    "- $\\mathtt{V}$: a list representing $V(S)$\n",
    "- $\\mathtt{unvisited}$: a list representing $P\\backslash V(S)$\n",
    "\n",
    "Alongside the constructor, there is the method $\\mathtt{add}$ which is responsible for adding an arc into the solution. This method receives the index from the $\\mathtt{unvisited}$ list indicating the attraction that will be added. This method also updates the $\\mathtt{V}$ and $\\mathtt{unvisited}$ lists, as well the cost of the solution and vertex $c$.\n",
    "\n",
    "Now, implement the method $\\mathtt{add}$ below."
   ]
  },
  {
   "cell_type": "code",
   "execution_count": 2,
   "metadata": {},
   "outputs": [],
   "source": [
    "import copy\n",
    "\n",
    "class Solution:\n",
    "    def __init__(self, places, graph):\n",
    "        \"\"\"\n",
    "        places: a list containing the indices of attractions to visit\n",
    "        p1 = places[0]\n",
    "        pm = places[-1]\n",
    "        \"\"\"\n",
    "        self.g = 0 # current cost\n",
    "        self.graph = graph \n",
    "        self.visited = [places[0]] # list of already visited attractions\n",
    "        self.not_visited = copy.deepcopy(places[1:]) # list of attractions not yet visited\n",
    "        \n",
    "    def add(self, idx):\n",
    "        \"\"\"\n",
    "        Adds the point in position idx of not_visited list to the solution\n",
    "        \"\"\"\n",
    "        self.g += graph[self.visited[-1], self.not_visited[idx]]\n",
    "        self.visited.append(self.not_visited.pop(idx))        "
   ]
  },
  {
   "cell_type": "markdown",
   "metadata": {},
   "source": [
    "Our next step is to implement a research method to find the best solution in the search tree. A simple strategy to this end would be a [Breadth-first search](https://moodle.polymtl.ca/pluginfile.php/444662/mod_resource/content/1/recherche_en_largeur.mp4) (BFS), which explores the nodes in the sequence as they are scanned using a queue data structure. \n",
    "\n",
    "Now, implement the $\\mathtt{bfs}$ method below that receives the graph and the list of attractions and returns the solution with minimum cost.  "
   ]
  },
  {
   "cell_type": "code",
   "execution_count": 3,
   "metadata": {},
   "outputs": [],
   "source": [
    "from queue import Queue\n",
    "\n",
    "def bfs(graph, places):\n",
    "    \"\"\"\n",
    "    Returns the best solution which spans over all attractions indicated in 'places'\n",
    "    \"\"\"\n",
    "    solutionInitial = Solution(places, graph)\n",
    "    queue = Queue()\n",
    "    queue.put(solutionInitial)\n",
    "    bestSolution = None\n",
    "    while queue.qsize() > 0:\n",
    "        sol = queue.get()\n",
    "        if len(sol.not_visited) == 0:   \n",
    "            if bestSolution is None:\n",
    "                bestSolution = sol\n",
    "            elif bestSolution.g > sol.g:\n",
    "                bestSolution = sol\n",
    "        i = 0\n",
    "        while i < len(sol.not_visited) - 1:\n",
    "            newSolution = copy.deepcopy(sol)\n",
    "            newSolution.add(i)\n",
    "            queue.put(newSolution)\n",
    "            i+=1\n",
    "        if len(sol.not_visited) == 1:\n",
    "            newSolution = copy.deepcopy(sol)\n",
    "            newSolution.add(0)\n",
    "            queue.put(newSolution)\n",
    "    return bestSolution\n",
    "    "
   ]
  },
  {
   "cell_type": "markdown",
   "metadata": {},
   "source": [
    "### 1.2 Experiments\n",
    "\n",
    "We propose three illustrative examples to test our search in width. The first example takes into account 7 attractions, the second 10 and the last 11. Since this research lists all possible solutions, the third example may take a considerable time to complete.\n",
    "\n",
    "Implement these experiments and report the number of nodes explored as well as the required computing time."
   ]
  },
  {
   "cell_type": "code",
   "execution_count": 4,
   "metadata": {
    "colab": {},
    "colab_type": "code",
    "id": "H1lFkJPJBcR3"
   },
   "outputs": [
    {
     "name": "stdout",
     "output_type": "stream",
     "text": [
      "27\n",
      "--- 0.016469240188598633 seconds ---\n"
     ]
    }
   ],
   "source": [
    "import time \n",
    "\n",
    "#test 1  --------------  OPT. SOL. = 27\n",
    "start_time = time.time()\n",
    "places=[0, 5, 13, 16, 6, 9, 4]\n",
    "sol = bfs(graph=graph, places=places)\n",
    "print(sol.g)\n",
    "print(\"--- %s seconds ---\" % (time.time() - start_time))"
   ]
  },
  {
   "cell_type": "code",
   "execution_count": 5,
   "metadata": {
    "colab": {},
    "colab_type": "code",
    "id": "Yn9mUPhBB9hv"
   },
   "outputs": [
    {
     "name": "stdout",
     "output_type": "stream",
     "text": [
      "30\n",
      "--- 4.946285724639893 seconds ---\n"
     ]
    }
   ],
   "source": [
    "#test 2 -------------- OPT. SOL. = 30\n",
    "start_time = time.time()\n",
    "places=[0, 1, 4, 9, 20, 18, 16, 5, 13, 19]\n",
    "sol = bfs(graph=graph, places=places)\n",
    "print(sol.g)\n",
    "print(\"--- %s seconds ---\" % (time.time() - start_time))"
   ]
  },
  {
   "cell_type": "code",
   "execution_count": 6,
   "metadata": {},
   "outputs": [
    {
     "name": "stdout",
     "output_type": "stream",
     "text": [
      "26\n",
      "--- 46.55029010772705 seconds ---\n"
     ]
    }
   ],
   "source": [
    "#test 3 -------------- OPT. SOL. = 26\n",
    "start_time = time.time()\n",
    "places=[0, 2, 7, 13, 11, 16, 15, 7, 9, 8, 4]\n",
    "sol = bfs(graph=graph, places=places)\n",
    "print(sol.g)\n",
    "print(\"--- %s seconds ---\" % (time.time() - start_time))"
   ]
  },
  {
   "cell_type": "markdown",
   "metadata": {},
   "source": [
    "## 2. Solving with an A* algorithm\n",
    "\n",
    "For our second research method, instead of enumerating all solutions, we intend to guide the search by evaluating the potential of each node of the search tree, prioritizing the solutions with lower estimate costs. To this purpose, each solution $S$ is evaluated by the heuristic function $f(S) = g(S) + h(S) $ that takes into consideration both the current cost of $S$, $g(S)$, and an estimate of the cost (lower bound), $h(S)$, to visit the ending attraction $p_m$ from $S$.\n",
    "\n",
    "For a given solution $S$, with $ c $ being the last added vertex to $V(S)$, the function $h$ could be defined as:\n",
    "\n",
    "$$h(S) = \\text{the shortest path from } c \\text{ to } p_m \\text{ in the graph } G_S  \\text{ induced by the set of vertices } P\\backslash V(S) \\cup \\{c\\} $$\n",
    "\n",
    "In other words, $h(s)$ is a lower bound to the time required to the tourist to arrive at the last attraction, $p_m$, from the current attraction, $c$, passing only through attractions of $P$ still not visited.\n",
    "\n",
    "\n",
    "Hence, we can design our A* algorithm dividing it into the following steps:\n",
    "\n",
    "1. As prevously done, the search tree $\\mathcal{T}$ is initialized with a root solution $S_{root}$ that contains only the starting point, i.e., $V(S_{root}) = p_1, A(S_{root}) = \\emptyset $ and $ c = p_1 $.  The cost of this initial solution is $ g(S_{root}) = 0 $. The estimative for this root solution is not important and can be discarded ($h(S_{root}) = 0 $).\n",
    "\n",
    "2. Select the solution $S_b$ of  $\\mathcal{T}$ that minimizes the heuristic function $f$:\n",
    "$$ f(S_b) \\leq f(S) \\quad \\forall S \\in \\mathcal{T} \\qquad S_B, S \\text{ are nodes of } \\mathcal{T} \\text{ not yet selected}$$\n",
    "Note that, at the first iteration, only the $S_{root}$ is present in $\\mathcal{T}$ and, thus, it will be selected. If $S_b$ is complete, then the optimal solution of the problem is found, and the algorithm ends. Otherwise, the algorithm proceeds normally to step 3.\n",
    "\n",
    "3. Let $c$ be the last visited vertex in $S_b$. For each vertex $ v \\in P\\backslash V(S_b) $, perform the following tasks:\n",
    "  - Create a new solution $S_n$ by adding the arc $ (c, v) $ to the solution\n",
    "  - Update the sets $V(S_n)$ and $A(S_n)$;\n",
    "  - Compute $g(S_n)$ and $h(S_n)$;\n",
    "  - Insert $S_n$ as a new child node in $\\mathcal{T}$\n",
    "  \n",
    "  The vertex $v = p_m$ can be only added to a new solution if it is the only vertex remaining in the set $ P\\backslash V(S_b)$. \n",
    "\n",
    "4. Repeat steps 2 and 3 until the selected solution $S_b$ is **complete**, i.e., $V(S_B) = P$.\n",
    "\n",
    "### 2.1 Time to code\n",
    "\n",
    "Our first implementation task is to increment the code of the class Solution. As we shall see later, a priority queue (heap) is going to be used to implement the search tree T, instead of an ordinary queue previously used. Then, we must prepare the class Solution with a method able to compare two solutions. This is done with the method $\\_\\_\\mathtt{lt}\\_\\_\\mathtt{(self, other)}$ which must return true if $f(self) < f(other)$.\n",
    "\n",
    "Now, implement the function $\\_\\_\\mathtt{lt}\\_\\_\\mathtt{(self, other)}$ in the class Solution.\n",
    "\n",
    "Following that, the next step is to implement the estimation function. To compute the fastest path between two vertices of a graph we can use the [Dijkstra algorithm](https://en.wikipedia.org/wiki/Dijkstra%27s_algorithm) where the source node is the last added vertex, $c$. The Dijkstra algorithm can be adapted to finish as soon as the fastest path to vertex $p_m$ is found.\n",
    "\n",
    "**Implementation guidelines**:\n",
    "  - Apply the Dijkstra algorithm to find the fastest path from $c$ to $p_m$.\n",
    "  - Return the time spent in the path found."
   ]
  },
  {
   "cell_type": "code",
   "execution_count": 7,
   "metadata": {},
   "outputs": [],
   "source": [
    "#Redefinition of class Solution for the A* algorithm implementation. \n",
    "#This class has a __lt__ operator defined.\n",
    "class Solution:\n",
    "    childsCount = 0\n",
    "       \n",
    "    def __init__(self, places, graph):\n",
    "        \"\"\"\n",
    "        places: a list containing the indices of attractions to visit\n",
    "        p1 = places[0]\n",
    "        pm = places[-1]\n",
    "        \"\"\"\n",
    "        self.g = 0 # current cost\n",
    "        self.graph = graph \n",
    "        self.visited = [places[0]] # list of already visited attractions\n",
    "        self.not_visited = copy.deepcopy(places[1:])\n",
    "        self.h = 0 # Estimated cost\n",
    "        \n",
    "    def add(self, idx):\n",
    "        \"\"\"\n",
    "        Adds the point in position idx of not_visited list to the solution\n",
    "        \"\"\"\n",
    "        self.g += graph[self.visited[-1], self.not_visited[idx]]\n",
    "        self.visited.append(self.not_visited.pop(idx))\n",
    "        if len(self.not_visited) > 0:\n",
    "            self.h = fastest_path_estimation(self)\n",
    "        else:\n",
    "            self.h = 0\n",
    "\n",
    "    def __lt__(self, other):\n",
    "        if self.g + self.h == other.g + other.h:\n",
    "            if len (self.visited) > len(other.visited):\n",
    "                return True\n",
    "            else:\n",
    "                return False\n",
    "        return self.g + self.h < other.g + other.h"
   ]
  },
  {
   "cell_type": "code",
   "execution_count": 8,
   "metadata": {
    "colab": {},
    "colab_type": "code",
    "id": "PxRTHhZmNEOB"
   },
   "outputs": [],
   "source": [
    "import heapq\n",
    "\n",
    "def fastest_path_estimation(sol):\n",
    "    \"\"\"\n",
    "    Returns the time spent on the fastest path between \n",
    "    the current vertex c and the ending vertex pm\n",
    "    \"\"\"\n",
    "    c = sol.visited[-1]\n",
    "    pm = sol.not_visited[-1]\n",
    "    heap = []\n",
    "    heapq.heapify(heap)\n",
    "    for i in range(0, len(sol.not_visited)):\n",
    "        heapq.heappush(heap, (sol.graph[c, sol.not_visited[i]], sol.not_visited[i]))\n",
    "    lowestCostToPm = sol.graph[c, pm]\n",
    "    while len(heap) > 0:\n",
    "        firstTuple = heapq.heappop(heap)\n",
    "        if firstTuple[1] == pm:\n",
    "            lowestCostToPm = firstTuple[0]\n",
    "            break\n",
    "        for i in range(0, len(heap)):\n",
    "            if firstTuple[0] + sol.graph[firstTuple[1], heap[i][1]] < heap[i][0]:\n",
    "                newTuple = (firstTuple[0] + sol.graph[firstTuple[1], heap[i][1]], heap[i][1])\n",
    "                heap.remove((heap[i][0], heap[i][1]))\n",
    "                heapq.heapify(heap)\n",
    "                heapq.heappush(heap,newTuple)\n",
    "\n",
    "    return lowestCostToPm"
   ]
  },
  {
   "cell_type": "markdown",
   "metadata": {
    "colab_type": "text",
    "id": "9pjLMOpju-a9"
   },
   "source": [
    "Finally, we must implement the A* function that creates the solution tree and performs the search. To implement the search, we will use a priority queue data structure (heap) to automatically select the solution $S_b$ from $\\mathcal{T}$.\n",
    "\n",
    "**Implementation guidelines**:\n",
    "  - While a complete solution is not selected from the search tree $\\mathcal{T}$ do:\n",
    "      - Selected the top solution of the heap.\n",
    "      - Perform step 3 described above\n",
    "  - Return the optimal solution obtained."
   ]
  },
  {
   "cell_type": "code",
   "execution_count": 9,
   "metadata": {
    "colab": {},
    "colab_type": "code",
    "id": "D6e45uNMvanU"
   },
   "outputs": [],
   "source": [
    "def A_star(graph, places):\n",
    "    \"\"\"\n",
    "    Performs the A* algorithm\n",
    "    \"\"\"\n",
    "    # blank solution\n",
    "    root = Solution(graph=graph, places=places)\n",
    "    # search tree T\n",
    "    T = []\n",
    "    heapq.heapify(T)\n",
    "    heapq.heappush(T, root)\n",
    "    bestSol = None\n",
    "    while len(T) > 0:\n",
    "        bestSol = heapq.heappop(T)\n",
    "        if len(bestSol.not_visited) == 0:\n",
    "            break\n",
    "        for i in range(0, len(bestSol.not_visited) - 1):\n",
    "            newSol = copy.deepcopy(bestSol)\n",
    "            newSol.add(i)\n",
    "            heapq.heappush(T, newSol)\n",
    "        if len(bestSol.not_visited) == 1:\n",
    "            newSol = copy.deepcopy(bestSol)\n",
    "            newSol.add(0)\n",
    "            heapq.heappush(T, newSol)\n",
    "    return bestSol"
   ]
  },
  {
   "cell_type": "markdown",
   "metadata": {
    "colab_type": "text",
    "id": "T2NhBa4GsoAP"
   },
   "source": [
    "### 2.2 Experiments\n",
    "\n",
    "To test our A* algorithm, a fourth experiment with 15 attractions was included in the set of experiments. Once again, for each test, report the time of execution and the number of nodes explored in the search. "
   ]
  },
  {
   "cell_type": "code",
   "execution_count": 10,
   "metadata": {
    "colab": {},
    "colab_type": "code",
    "id": "H1lFkJPJBcR3"
   },
   "outputs": [
    {
     "name": "stdout",
     "output_type": "stream",
     "text": [
      "27\n",
      "[0, 5, 13, 16, 6, 9, 4]\n",
      "--- 0.004990100860595703 seconds ---\n"
     ]
    }
   ],
   "source": [
    "#test 1  --------------  OPT. SOL. = 27\n",
    "start_time = time.time()\n",
    "places=[0, 5, 13, 16, 6, 9, 4]\n",
    "astar_sol = A_star(graph=graph, places=places)\n",
    "print(astar_sol.g)\n",
    "print(astar_sol.visited)\n",
    "print(\"--- %s seconds ---\" % (time.time() - start_time))"
   ]
  },
  {
   "cell_type": "code",
   "execution_count": 11,
   "metadata": {
    "colab": {},
    "colab_type": "code",
    "id": "Yn9mUPhBB9hv"
   },
   "outputs": [
    {
     "name": "stdout",
     "output_type": "stream",
     "text": [
      "30\n",
      "[0, 1, 4, 5, 9, 13, 16, 18, 20, 19]\n",
      "--- 0.05192160606384277 seconds ---\n"
     ]
    }
   ],
   "source": [
    "#test 2  --------------  OPT. SOL. = 30\n",
    "start_time = time.time()\n",
    "places=[0, 1, 4, 9, 20, 18, 16, 5, 13, 19]\n",
    "astar_sol = A_star(graph=graph, places=places)\n",
    "print(astar_sol.g)\n",
    "print(astar_sol.visited)\n",
    "print(\"--- %s seconds ---\" % (time.time() - start_time))"
   ]
  },
  {
   "cell_type": "code",
   "execution_count": 12,
   "metadata": {
    "colab": {},
    "colab_type": "code",
    "id": "ZX5SD5CRBfKg"
   },
   "outputs": [
    {
     "name": "stdout",
     "output_type": "stream",
     "text": [
      "26\n",
      "[0, 2, 7, 7, 9, 13, 15, 16, 11, 8, 4]\n",
      "--- 0.12476754188537598 seconds ---\n"
     ]
    }
   ],
   "source": [
    "#test 3  --------------  OPT. SOL. = 26\n",
    "start_time = time.time()\n",
    "places=[0, 2, 7, 13, 11, 16, 15, 7, 9, 8, 4]\n",
    "astar_sol = A_star(graph=graph, places=places)\n",
    "print(astar_sol.g)\n",
    "print(astar_sol.visited)\n",
    "print(\"--- %s seconds ---\" % (time.time() - start_time))"
   ]
  },
  {
   "cell_type": "code",
   "execution_count": 13,
   "metadata": {},
   "outputs": [
    {
     "name": "stdout",
     "output_type": "stream",
     "text": [
      "40\n",
      "[0, 3, 13, 15, 18, 20, 16, 11, 12, 14, 9, 5, 4, 2, 1]\n",
      "--- 33.40676665306091 seconds ---\n"
     ]
    }
   ],
   "source": [
    "#test 4  --------------  OPT. SOL. = 40\n",
    "start_time = time.time()\n",
    "places=[0, 2, 20, 3, 18, 12, 13, 5, 11, 16, 15, 4, 9, 14, 1]\n",
    "astar_sol = A_star(graph=graph, places=places)\n",
    "print(astar_sol.g)\n",
    "print(astar_sol.visited)\n",
    "print(\"--- %s seconds ---\" % (time.time() - start_time))"
   ]
  },
  {
   "cell_type": "markdown",
   "metadata": {},
   "source": [
    "### 2.3 A tighter lower bound\n",
    "\n",
    "While the estimated cost of the fastest path helped the $A*$ algorithm to solve problems with a larger number of attractions, this lower bound does not takes into consideration the cost of visiting the other vertices in $P\\backslash V(S)$. A better estimation for our problem can be given by the **spanning arborescence of minimum weight** (this is the minimum spanning tree version for directed graphs) for the graph $G_S$ induced by the set of vertices $P\\backslash V(S) \\cup \\{c\\} $. This problem seeks to create a tree rooted in a defined vertex, $r$, that visits all vertices of the graph with minimum cost.\n",
    "\n",
    "For our problem, one could define the root vertex as the current vertex of the solution, $r = c$, and compute the sum of costs required to reach the vertices $P\\backslash V(S)$. A classical procedure to solve this problem is the [Edmonds's algorithm](https://en.wikipedia.org/wiki/Edmonds%27_algorithm). Our task now is to implement this algorithm and use it as a new estimation cost, $h(S)$. After that, re-run the experiments in Section 2.2 and report the gains, concerning both the execution times and the number of explored nodes.\n",
    "\n",
    "\n"
   ]
  },
  {
   "cell_type": "code",
   "execution_count": 35,
   "metadata": {},
   "outputs": [],
   "source": [
    "def minimum_spanning_arborescence(graph):\n",
    "    \"\"\"\n",
    "    Returns the cost to reach the vertices in the unvisited list \n",
    "    \"\"\"\n",
    "    original_graph=copy.deepcopy(graph)\n",
    "    pi=MST(graph)\n",
    "    cost=0\n",
    "    for i in range(1,len(pi)):\n",
    "        cost+=original_graph[pi[i][1]][i]\n",
    "    return cost"
   ]
  },
  {
   "cell_type": "code",
   "execution_count": 36,
   "metadata": {},
   "outputs": [],
   "source": [
    "import numpy as np\n",
    "import time\n",
    "import copy\n",
    "import heapq\n",
    "\n",
    "big_number=999999\n",
    "\n",
    "def find_cycle(pi, vertex, visited=None):\n",
    "    \"\"\"\n",
    "    \"\"\"\n",
    "    if visited is None:\n",
    "        visited = []\n",
    "    if vertex in visited:\n",
    "        visited += [vertex]\n",
    "        return visited\n",
    "    if pi[vertex] is not None:\n",
    "        visited += [vertex]\n",
    "        return find_cycle(pi, pi[vertex][1], visited)\n",
    "    else:\n",
    "        return []\n",
    "\n",
    "\n",
    "def getCycle(theCycle):\n",
    "    if len(theCycle) > 0:\n",
    "        for i in range(len(theCycle) - 2, -1, -1):\n",
    "            if theCycle[i] == theCycle[-1]:\n",
    "                return theCycle[i+1:]\n",
    "    else:\n",
    "        return []\n",
    "\n",
    "\n",
    "#The index of the root is always 0!!\n",
    "def MST(graph):\n",
    "    \"\"\"\n",
    "    \"\"\"\n",
    "    (pi,graph) = constructPi(graph)\n",
    "    Cycle=[]\n",
    "    # for v in range(0, len(graph)):\n",
    "    for i in range(1,len(graph)):\n",
    "        Cycle=getCycle(find_cycle(pi,i))\n",
    "        if len(Cycle)>0:\n",
    "            break\n",
    "    if len(Cycle)==0:\n",
    "        return pi\n",
    "    else:\n",
    "        idx_dict={}\n",
    "        (new_graph,idx_dict)=ReGroup(Cycle,graph,idx_dict)\n",
    "        new_pi=MST(new_graph)\n",
    "        pi=Decontract(pi,idx_dict,new_pi,graph)\n",
    "        return pi\n",
    "\n",
    "def Decontract(pi,idx_dict,new_pi,graph):\n",
    "    path_to_supernode=new_pi.pop()\n",
    "    for i in range(1,len(new_pi)):\n",
    "        new_destination=i\n",
    "        new_source=new_pi[i][1]\n",
    "        weight=new_pi[i][0]\n",
    "        old_destination=idx_dict[str(new_destination)]\n",
    "        old_source=idx_dict[str(new_source)]\n",
    "        if new_source == len(new_pi):\n",
    "            continue\n",
    "        pi[old_destination]=(weight,old_source)\n",
    "    cycle_idx = idx_dict[str(len(new_pi))]\n",
    "    assert(len(cycle_idx)>1)\n",
    "    break_dst=None\n",
    "    minimum=big_number\n",
    "    source=idx_dict[str(path_to_supernode[1])]\n",
    "    for idx in cycle_idx:\n",
    "        if idx==source:\n",
    "            print(idx)\n",
    "        try:\n",
    "            if minimum>graph[source][idx]:\n",
    "                minimum=graph[source][idx]\n",
    "                break_dst=idx\n",
    "        except:\n",
    "            print(source)\n",
    "    pi[break_dst]=(path_to_supernode[0],source)\n",
    "    return pi\n",
    "\n",
    "\n",
    "\n",
    "def ReGroup(Cycle,graph,idx_dict):\n",
    "    dim=len(graph)-len(Cycle)+1\n",
    "    new_graph=np.zeros(dim*dim).reshape(dim,dim)\n",
    "    not_in_cycle=[]\n",
    "\n",
    "    for idx in range(len(graph)):\n",
    "        if idx not in Cycle:\n",
    "            not_in_cycle.append(idx)\n",
    "    assert(not_in_cycle[0]==0)\n",
    "    assert(len(idx_dict)==0)\n",
    "    assert(len(not_in_cycle)==dim-1)\n",
    "    for idx in range(len(not_in_cycle)):\n",
    "        idx_dict[str(idx)]=not_in_cycle[idx]\n",
    "    for i in range(len(not_in_cycle)):\n",
    "        for j in range(len(not_in_cycle)):\n",
    "            if i!=j:\n",
    "                new_graph[i][j]=graph[idx_dict[str(i)]][idx_dict[str(j)]]\n",
    "\n",
    "    # get the weight from other nodes to the super-node\n",
    "    for j in range(0,len(not_in_cycle)):\n",
    "        if j==0:\n",
    "            new_graph[dim-1][j]=big_number\n",
    "        minimum=big_number\n",
    "        idx_dict[str(dim-1)]=[]\n",
    "        for idx in Cycle:\n",
    "            if minimum>graph[idx][idx_dict[str(j)]]:\n",
    "                minimum=graph[idx][idx_dict[str(j)]]\n",
    "            idx_dict[str(dim-1)].append(idx)\n",
    "        new_graph[dim-1][j]=minimum\n",
    "\n",
    "\n",
    "    for i in range(0,len(not_in_cycle)):\n",
    "        minimum=big_number\n",
    "        for idx in Cycle:\n",
    "            if minimum>graph[idx_dict[str(i)]][idx]:\n",
    "                minimum=graph[idx_dict[str(i)]][idx]\n",
    "        new_graph[i][dim-1]=minimum\n",
    "\n",
    "    return (new_graph,idx_dict)\n",
    "\n",
    "# graph is a matrix, where the root place is the 0th\n",
    "def constructPi(graph):\n",
    "    pi = []\n",
    "    for i in range(0, len(graph)):\n",
    "        pi.append(None)\n",
    "    for i in range(0, len(graph)):\n",
    "        currentMin = (big_number, 0)\n",
    "        for j in range(0, len(graph)):\n",
    "            if j==i:\n",
    "                continue\n",
    "            else:\n",
    "                if currentMin[0] > graph[j][i]:\n",
    "                    currentMin = (graph[j][i], j)\n",
    "        for j in range(0,len(graph)):\n",
    "            if j==i:\n",
    "                continue\n",
    "            if graph[j][i]!=big_number:\n",
    "                graph[j][i]=graph[j][i]-currentMin[0]\n",
    "        if currentMin[0]!=big_number:\n",
    "            pi[i] = currentMin\n",
    "    for i in range(0, len(pi)):\n",
    "        if pi[i] is not None:\n",
    "            pi[i]=(0,pi[i][1])\n",
    "    return (pi,graph)\n",
    "\n",
    "def A_star(graph, places):\n",
    "    \"\"\"\n",
    "    Performs the A* algorithm\n",
    "    \"\"\"\n",
    "    # blank solution\n",
    "    root = Solution(graph=graph, places=places)\n",
    "    # search tree T\n",
    "    T = []\n",
    "    heapq.heapify(T)\n",
    "    heapq.heappush(T, root)\n",
    "    bestSol = None\n",
    "    while len(T) > 0:\n",
    "        bestSol = heapq.heappop(T)\n",
    "        if len(bestSol.not_visited) == 0:\n",
    "            break\n",
    "        for i in range(0, len(bestSol.not_visited) - 1):\n",
    "            newSol = copy.deepcopy(bestSol)\n",
    "            newSol.add(i)\n",
    "            heapq.heappush(T, newSol)\n",
    "        if len(bestSol.not_visited) == 1:\n",
    "            newSol = copy.deepcopy(bestSol)\n",
    "            newSol.add(0)\n",
    "            heapq.heappush(T, newSol)\n",
    "    return bestSol\n",
    "\n",
    "def PrepareGraph4MST(root,not_visited,graph):\n",
    "    not_visited=[root]+not_visited\n",
    "    dim=len(not_visited)\n",
    "    new_graph=np.zeros(dim*dim).reshape(dim,dim)\n",
    "    for i in range(dim):\n",
    "        if i==0:\n",
    "            continue\n",
    "        new_graph[i][0]=big_number\n",
    "    for i in range(dim):\n",
    "        for j in range(1,dim):\n",
    "            if i==j:\n",
    "                continue\n",
    "            else:\n",
    "                new_graph[i][j]=graph[not_visited[i]][not_visited[j]]\n",
    "    return new_graph\n",
    "\n",
    "class Solution:\n",
    "    childsCount = 0\n",
    "\n",
    "    def __init__(self, places, graph):\n",
    "        \"\"\"\n",
    "        places: a list containing the indices of attractions to visit\n",
    "        p1 = places[0]\n",
    "        pm = places[-1]\n",
    "        \"\"\"\n",
    "        self.g = 0  # current cost\n",
    "        self.graph = graph\n",
    "        self.visited = [places[0]]  # list of already visited attractions\n",
    "        self.not_visited = copy.deepcopy(places[1:])\n",
    "        self.h = 0  # Estimated cost\n",
    "\n",
    "    def add(self, idx):\n",
    "        \"\"\"\n",
    "        Adds the point in position idx of not_visited list to the solution\n",
    "        \"\"\"\n",
    "        self.g += graph[self.visited[-1], self.not_visited[idx]]\n",
    "        self.visited.append(self.not_visited.pop(idx))\n",
    "        if len(self.not_visited) > 0:\n",
    "            root=self.visited[-1]\n",
    "            not_visited_MST=copy.deepcopy(self.not_visited)\n",
    "            graph4MST=PrepareGraph4MST(root,not_visited_MST,self.graph)\n",
    "            self.h = minimum_spanning_arborescence(graph4MST)\n",
    "        else:\n",
    "            self.h = 0\n",
    "\n",
    "    def __lt__(self, other):\n",
    "        if self.g + self.h == other.g + other.h:\n",
    "            if len(self.visited) > len(other.visited):\n",
    "                return True\n",
    "            else:\n",
    "                return False\n",
    "        return self.g + self.h < other.g + other.h\n",
    "\n",
    "def read_graph():\n",
    "    return np.loadtxt(\"montreal\", dtype='i', delimiter=',')\n",
    "\n",
    "graph=read_graph()"
   ]
  },
  {
   "cell_type": "code",
   "execution_count": 37,
   "metadata": {},
   "outputs": [
    {
     "name": "stdout",
     "output_type": "stream",
     "text": [
      "27\n",
      "[0, 5, 13, 16, 6, 9, 4]\n",
      "--- 0.005485057830810547 seconds ---\n"
     ]
    }
   ],
   "source": [
    "#test 1  --------------  OPT. SOL. = 27\n",
    "start_time = time.time()\n",
    "places=[0, 5, 13, 16, 6, 9, 4]\n",
    "astar_sol = A_star(graph=graph, places=places)\n",
    "print(astar_sol.g)\n",
    "print(astar_sol.visited)\n",
    "print(\"--- %s seconds ---\" % (time.time() - start_time))"
   ]
  },
  {
   "cell_type": "code",
   "execution_count": 38,
   "metadata": {},
   "outputs": [
    {
     "name": "stdout",
     "output_type": "stream",
     "text": [
      "30\n",
      "[0, 1, 4, 5, 9, 13, 16, 18, 20, 19]\n",
      "--- 0.020960092544555664 seconds ---\n"
     ]
    }
   ],
   "source": [
    "#test 2  --------------  OPT. SOL. = 30\n",
    "start_time = time.time()\n",
    "places=[0, 1, 4, 9, 20, 18, 16, 5, 13, 19]\n",
    "astar_sol = A_star(graph=graph, places=places)\n",
    "print(astar_sol.g)\n",
    "print(astar_sol.visited)\n",
    "print(\"--- %s seconds ---\" % (time.time() - start_time))"
   ]
  },
  {
   "cell_type": "code",
   "execution_count": 39,
   "metadata": {},
   "outputs": [
    {
     "name": "stdout",
     "output_type": "stream",
     "text": [
      "26\n",
      "[0, 2, 7, 7, 9, 13, 15, 16, 11, 8, 4]\n",
      "--- 0.0389096736907959 seconds ---\n"
     ]
    }
   ],
   "source": [
    "#test 3  --------------  OPT. SOL. = 26\n",
    "start_time = time.time()\n",
    "places=[0, 2, 7, 13, 11, 16, 15, 7, 9, 8, 4]\n",
    "astar_sol = A_star(graph=graph, places=places)\n",
    "print(astar_sol.g)\n",
    "print(astar_sol.visited)\n",
    "print(\"--- %s seconds ---\" % (time.time() - start_time))"
   ]
  },
  {
   "cell_type": "code",
   "execution_count": 40,
   "metadata": {},
   "outputs": [
    {
     "name": "stdout",
     "output_type": "stream",
     "text": [
      "40\n",
      "[0, 3, 5, 14, 12, 13, 15, 18, 20, 16, 11, 9, 4, 2, 1]\n",
      "--- 0.13575100898742676 seconds ---\n"
     ]
    }
   ],
   "source": [
    "#test 4  --------------  OPT. SOL. = 40\n",
    "start_time = time.time()\n",
    "places=[0, 2, 20, 3, 18, 12, 13, 5, 11, 16, 15, 4, 9, 14, 1]\n",
    "astar_sol = A_star(graph=graph, places=places)\n",
    "print(astar_sol.g)\n",
    "print(astar_sol.visited)\n",
    "print(\"--- %s seconds ---\" % (time.time() - start_time))"
   ]
  },
  {
   "cell_type": "markdown",
   "metadata": {
    "colab_type": "text",
    "id": "r9oJnFHbxrvj"
   },
   "source": [
    "## 2. Optimizing with a VNS heuristic\n",
    "\n",
    "This time, instead of building a solution from scratch by gradually adding arcs to the solution,  our [Variable Neighborhood Search](https://en.wikipedia.org/wiki/Variable_neighborhood_search) (VNS) method will start from a complete initial solution and performs successively swaps on the order in which the attractions are visited to improve the cost of the solution. \n",
    "\n",
    "<img src=\"images/vns.png\" alt=\"\" width=\"800\"/>\n",
    "\n",
    "### 2.1 Time to code\n",
    "\n",
    "Our first implementation task is to construct an initial solution to work with during the search. This solution must be complete, i.e., we must create an ordered set of visited vertex $V(S)$ such that it starts in $p_1$ and finishes in $p_m$. A simple approach to this end is to use a [Depth-First Seach (DFS)](https://moodle.polymtl.ca/pluginfile.php/445484/mod_resource/content/1/recherche_en_profondeur.mp4). The starting point is the vertex representing $p_1$ and, as soon as the ending point is reached after visiting all the others attractions of $P$, the path can be turned into an initial solution. To help in diversifying the search, the method to generate an initial solution can be randomized such that the VNS algorithm can start the search in different regions of the solution space. Thus, in the DFS function, the selection of the child to continue the search must be random.\n",
    "\n",
    "Now. implement the **initial_sol** method to construct a random initial solution and uses the **dfs** function to find a path from $p_1$ to $p_m$.\n",
    "\n",
    "\n",
    "\n",
    "**Implementation guidelines**:\n",
    "  - Call the dfs function to find a complete path from  $p_1$ to $p_m$.\n",
    "  - Create a root solution\n",
    "  - Adjust the solution cost and the set V with the path found\n",
    "  - Return the solution created\n",
    "\n"
   ]
  },
  {
   "cell_type": "code",
   "execution_count": 17,
   "metadata": {},
   "outputs": [],
   "source": [
    "#Redefinition of class Solution for the VNS part.\n",
    "class Solution:\n",
    "    def __init__(self, graph, places):\n",
    "        self.g=0                # cost function\n",
    "        self.graph=graph\n",
    "        self.last_visited=places[0]\n",
    "        self.visited=[places[0]]\n",
    "        self.not_visited=copy.deepcopy(places[1:])\n",
    "\n",
    "    def add(self, idx):\n",
    "        to_be_pushed=idx\n",
    "        self.visited.append(to_be_pushed)          #add the place into visited set\n",
    "        self.g += graph[self.last_visited][to_be_pushed] # update the cost function\n",
    "        self.last_visited=to_be_pushed             #update the last visited\n",
    "        self.not_visited.remove(to_be_pushed)                           # delete the places[idx] from not_visited set"
   ]
  },
  {
   "cell_type": "code",
   "execution_count": 18,
   "metadata": {
    "colab": {},
    "colab_type": "code",
    "id": "JKx9Z-ayxzSw"
   },
   "outputs": [],
   "source": [
    "from random import shuffle, randint\n",
    "\n",
    "def initial_sol(graph, places):\n",
    "    \"\"\"\n",
    "    Return a completed initial solution\n",
    "    \"\"\"\n",
    "    sol=Solution(graph, places)\n",
    "    return dfs(sol,graph, places)\n",
    "\n",
    "def dfs(root_node, graph, places):\n",
    "    \"\"\"\n",
    "    Performs a Depth-First Search\n",
    "    \"\"\"\n",
    "    assert(root_node.g==0)\n",
    "    assert(root_node.last_visited==places[0])\n",
    "    node_stack=[]\n",
    "    node_stack.append(root_node)\n",
    "    while(True):\n",
    "        current_node=node_stack.pop()\n",
    "        if(len(current_node.not_visited)==1):\n",
    "            current_node.add(current_node.not_visited[0])\n",
    "            return current_node\n",
    "        i=0\n",
    "        candidate_places = current_node.not_visited\n",
    "        while(i<len(current_node.not_visited)-1):\n",
    "            selected_idx=randint(0,len(candidate_places)-2)\n",
    "            new_node = copy.deepcopy(current_node)\n",
    "            next_place=candidate_places[selected_idx]\n",
    "            new_node.add(next_place)\n",
    "            node_stack.append(new_node)\n",
    "            i+=1"
   ]
  },
  {
   "cell_type": "markdown",
   "metadata": {
    "colab_type": "text",
    "id": "JnTFBFqvXpNz"
   },
   "source": [
    "A key feature of the VNS metaheuristic is the ability to define $k_{max}$ neighborhoods to diversify the search and escape from local optima. For our problem, a simple and efficient neighborhood structure could be neighborhoods based on **swapping** the order in which two points are visited within the route. Thus, given a solution $S$, with $V(S)$ being the ordered set in which the points were visited, a solution on the $k$-th neighborhood of $S$ can be obtained by selecting $k$ *random* pairs of vertices, different from $p_1$ and $p_m$, and swap their position in $V(S)$.\n",
    "\n",
    "In the VNS framework, the procedure of generating a solution on the $k$-th neighborhood of $S$ is known as the **shaking** step. Thus, our task now is to implement this shaking method that receives a solution, the neighborhood index $k$ and the graph $G$ and returns a new solution on the $k$-th neighborhood of $S$. \n",
    "\n",
    "However, before implementing the shaking method below, we must first return to the implementation of class Solution and finish the **swap** method. This method is responsible for updating the position of the vertices being swapped in the $V(S)$ set and, consequentily, the solution cost. It receives the indices of the two selected vertices of $V(S)$ and the graph $G$.\n",
    "\n",
    "\n",
    "**Implementation guidelines (shaking)**:\n",
    "  - Select two indices, $i$ and $j$, such that $i \\neq j$ and $i, j \\in \\{2...m-1\\}$\n",
    "  - Make a copy of the $sol$ and perfom the swap\n",
    "  - Return the created solution"
   ]
  },
  {
   "cell_type": "code",
   "execution_count": 19,
   "metadata": {
    "colab": {},
    "colab_type": "code",
    "id": "EWLAhZUlfFOZ"
   },
   "outputs": [],
   "source": [
    "def shaking(sol, k):\n",
    "    \"\"\"\n",
    "    Returns a solution on the k-th neighrboohood of sol\n",
    "    \"\"\"\n",
    "    i=0\n",
    "    result=[]\n",
    "    while(i<k):\n",
    "        idx_1=0\n",
    "        idx_2=0\n",
    "        while(idx_1==idx_2):\n",
    "            idx_1=randint(1,len(sol.visited)-2)\n",
    "            idx_2=randint(1,len(sol.visited)-2)\n",
    "        new_neighborhood=copy.deepcopy(sol)\n",
    "        tmp= new_neighborhood.visited[idx_1]\n",
    "        new_neighborhood.visited[idx_1]= new_neighborhood.visited[idx_2]\n",
    "        new_neighborhood.visited[idx_2]=tmp\n",
    "        new_neighborhood.g = 0\n",
    "        for idx in range(len(new_neighborhood.visited)-1):\n",
    "            new_neighborhood.g+=new_neighborhood.graph[new_neighborhood.visited[idx]][new_neighborhood.visited[idx+1]]\n",
    "        result.append(new_neighborhood)\n",
    "        i+=1\n",
    "    return result"
   ]
  },
  {
   "cell_type": "markdown",
   "metadata": {
    "colab_type": "text",
    "id": "PD_PxV54sl1o"
   },
   "source": [
    "Another essential step in the VNS algorithm is to invoke a local search routine to improve the solution cost. For our problem, an efficient local search procedure would be to search for a pair of vertices, $i$ and $j$, such that their swapping position in $V(S)$ leads it to a reduction in the solution cost. This local search is known as 2-opt, and we are going to implement in this TP. \n",
    "\n",
    "Formally, consider a solution $S$ and the ordered set of vertices $V(S)$. For a vertex $i$, let $i'$ be the immediate successor of $i$ in the sequence $V(S)$. The 2-opt algorithm work as follows: for every  pair of non-consecutive vertices $i,j$, check if by swapping the position of vertices $i'$ and $j$ results in a improvement in the solution cost. If so, perform this swap. This process is repeated until there are no more profitable exchanges. The 2-opt heuristic is illustrated in the figure below. \n",
    "\n",
    "\n",
    "<img src=\"images/2opt.png\" alt=\"\" width=\"800\"/>\n",
    "\n",
    "<img src=\"images/2opt2.png\" alt=\"\" width=\"800\"/>\n",
    "\n",
    "\n",
    "\n",
    "Now implement the **local_search_2opt** fuction below. \n",
    "\n",
    "\n",
    "\n",
    "**Implementation guidelines**:\n",
    "  - Check every pair of indices, $i = \\{2,..,m-3\\}$ and $j = \\{i+2, m-1\\}$ for a improvement in the solution cost\n",
    "  - If the exchange is profitable, perform it\n",
    "  - Repeat the process until no more profitable swap can be found"
   ]
  },
  {
   "cell_type": "code",
   "execution_count": 20,
   "metadata": {
    "colab": {},
    "colab_type": "code",
    "id": "_97d-BQV8tzt"
   },
   "outputs": [],
   "source": [
    "def local_search_2opt(sol):\n",
    "    \"\"\"\n",
    "    Apply 2-opt local search over sol\n",
    "    \"\"\"\n",
    "    for i in range(1,len(sol.visited)-1):\n",
    "        for j in range(1,len(sol.visited)-1):\n",
    "            if (i!=j):\n",
    "                candidate_sol=copy.deepcopy(sol)\n",
    "                tmp=candidate_sol.visited[i]\n",
    "                candidate_sol.visited[i]=candidate_sol.visited[j]\n",
    "                candidate_sol.visited[j]=tmp\n",
    "                candidate_sol.g=0\n",
    "                for idx in range(len(candidate_sol.visited)-1):\n",
    "                    candidate_sol.g+=candidate_sol.graph[candidate_sol.visited[idx]][candidate_sol.visited[idx+1]]\n",
    "                if(candidate_sol.g<sol.g):\n",
    "                    sol=candidate_sol\n",
    "    return sol\n"
   ]
  },
  {
   "cell_type": "markdown",
   "metadata": {
    "colab_type": "text",
    "id": "ZPG90m1g_HgA"
   },
   "source": [
    "Finally, our last implementation step is to code the VNS algorithm itself. The method receives an initial solution  and returns the best solution found during the search. Alongside the solution and the graph, the method also receives two other parameters: $k_{max} $, which defines the number of neighborhoods; and $t_{max}$, which sets the time limit to run the heuristic.\n",
    "\n",
    "\n",
    "**Implementation guidelines**:\n",
    "  - At each iteration of the VNS, generate a solution on the k-th neighrborhood of the current best solution and apply a local search on it.\n",
    "  - If the new solution has a better cost than the current best solution, update the best solution with the new found solution. \n",
    "  - Repeat the process until the time limit is met"
   ]
  },
  {
   "cell_type": "code",
   "execution_count": 21,
   "metadata": {
    "colab": {},
    "colab_type": "code",
    "id": "ZQwCN2HB_m-q"
   },
   "outputs": [],
   "source": [
    "def vns(sol, k_max, t_max):\n",
    "    \"\"\"\n",
    "    Performs the VNS algorithm\n",
    "    \"\"\"\n",
    "    elapsed_time=0\n",
    "    best_sol=sol\n",
    "    while(True):\n",
    "        k_neighborhood=shaking(best_sol,k_max)\n",
    "        for k_sol in k_neighborhood:\n",
    "            start_time = time.time()\n",
    "            candidate=local_search_2opt(k_sol)\n",
    "            if(best_sol.g>candidate.g):\n",
    "                best_sol=candidate\n",
    "            elapsed_time+=time.time()-start_time\n",
    "            if(elapsed_time>t_max):\n",
    "                break\n",
    "        if (elapsed_time > t_max):\n",
    "            break\n",
    "    return best_sol"
   ]
  },
  {
   "cell_type": "markdown",
   "metadata": {
    "colab_type": "text",
    "id": "z5TPMN2XCkPc"
   },
   "source": [
    "### 2.2 Experiments\n",
    "\n",
    "Run the VNS on the following illustrative examples and report the obtained solutions:"
   ]
  },
  {
   "cell_type": "code",
   "execution_count": 22,
   "metadata": {
    "colab": {},
    "colab_type": "code",
    "id": "Ox0PScj5CTzq"
   },
   "outputs": [
    {
     "name": "stdout",
     "output_type": "stream",
     "text": [
      "27\n",
      "[0, 5, 13, 16, 6, 9, 4]\n",
      "--- 1.0720751285552979 seconds ---\n"
     ]
    }
   ],
   "source": [
    "# test 1  --------------  OPT. SOL. = 27\n",
    "places=[0, 5, 13, 16, 6, 9, 4]\n",
    "sol = initial_sol(graph=graph, places=places)\n",
    "start_time = time.time()\n",
    "vns_sol = vns(sol=sol, k_max=10, t_max=1)\n",
    "print(vns_sol.g)\n",
    "print(vns_sol.visited)\n",
    "print(\"--- %s seconds ---\" % (time.time() - start_time))"
   ]
  },
  {
   "cell_type": "code",
   "execution_count": 23,
   "metadata": {
    "colab": {},
    "colab_type": "code",
    "id": "a5IB2FbqCTz3"
   },
   "outputs": [
    {
     "name": "stdout",
     "output_type": "stream",
     "text": [
      "30\n",
      "[0, 1, 4, 5, 9, 13, 16, 18, 20, 19]\n",
      "--- 1.0316636562347412 seconds ---\n"
     ]
    }
   ],
   "source": [
    "#test 2  --------------  OPT. SOL. = 30\n",
    "places=[0, 1, 4, 9, 20, 18, 16, 5, 13, 19]\n",
    "sol = initial_sol(graph=graph, places=places)\n",
    "\n",
    "start_time = time.time()\n",
    "vns_sol = vns(sol=sol, k_max=10, t_max=1)\n",
    "print(vns_sol.g)\n",
    "print(vns_sol.visited)\n",
    "\n",
    "print(\"--- %s seconds ---\" % (time.time() - start_time))"
   ]
  },
  {
   "cell_type": "code",
   "execution_count": 24,
   "metadata": {
    "colab": {},
    "colab_type": "code",
    "id": "nkNwTmxPCTz9"
   },
   "outputs": [
    {
     "name": "stdout",
     "output_type": "stream",
     "text": [
      "26\n",
      "[0, 2, 7, 7, 9, 13, 15, 16, 11, 8, 4]\n",
      "--- 1.0462100505828857 seconds ---\n"
     ]
    }
   ],
   "source": [
    "# test 3  --------------  OPT. SOL. = 26\n",
    "places=[0, 2, 7, 13, 11, 16, 15, 7, 9, 8, 4]\n",
    "sol = initial_sol(graph=graph, places=places)\n",
    "\n",
    "start_time = time.time()\n",
    "vns_sol = vns(sol=sol, k_max=10, t_max=1)\n",
    "print(vns_sol.g)\n",
    "print(vns_sol.visited)\n",
    "print(\"--- %s seconds ---\" % (time.time() - start_time))"
   ]
  },
  {
   "cell_type": "code",
   "execution_count": 26,
   "metadata": {},
   "outputs": [
    {
     "name": "stdout",
     "output_type": "stream",
     "text": [
      "40\n",
      "[0, 3, 5, 13, 15, 18, 20, 16, 11, 12, 14, 9, 4, 2, 1]\n",
      "--- 1.0134165287017822 seconds ---\n"
     ]
    }
   ],
   "source": [
    "# test 4  --------------  OPT. SOL. = 40\n",
    "places=[0, 2, 20, 3, 18, 12, 13, 5, 11, 16, 15, 4, 9, 14, 1]\n",
    "sol = initial_sol(graph=graph, places=places)\n",
    "\n",
    "start_time = time.time()\n",
    "vns_sol = vns(sol=sol, k_max=10, t_max=1)\n",
    "print(vns_sol.g)\n",
    "print(vns_sol.visited)\n",
    "print(\"--- %s seconds ---\" % (time.time() - start_time))"
   ]
  },
  {
   "cell_type": "markdown",
   "metadata": {},
   "source": [
    "## 4. BONUS SECTION (1 point)\n",
    "\n",
    "Explain in which situation each of the developed algorithms is more appropriate (hint: take into consideration the scalability of the problem)"
   ]
  },
  {
   "cell_type": "code",
   "execution_count": 35,
   "metadata": {},
   "outputs": [
    {
     "ename": "SyntaxError",
     "evalue": "invalid syntax (<ipython-input-35-90a0bdce68eb>, line 1)",
     "output_type": "error",
     "traceback": [
      "\u001b[1;36m  File \u001b[1;32m\"<ipython-input-35-90a0bdce68eb>\"\u001b[1;36m, line \u001b[1;32m1\u001b[0m\n\u001b[1;33m    Pour la première partie du laboratoire, nous avons utilisé BFS pour effectuer la recherche du chemin le plus court entre un\u001b[0m\n\u001b[1;37m          ^\u001b[0m\n\u001b[1;31mSyntaxError\u001b[0m\u001b[1;31m:\u001b[0m invalid syntax\n"
     ]
    }
   ],
   "source": [
    "Pour la première partie du laboratoire, nous avons utilisé BFS pour effectuer la recherche du chemin le plus court entre un\n",
    "point de départ et un point d''arrivé. Il est mieu d''utiliser la méthode BFS lorsque le problème est de petite taille. En effet,\n",
    "cette méthode est la plus simple et la plus naïve à implémenter. Cependant, cette solution est très couteuse et d''ordre\n",
    "exponentielle. Comme on l''a vue dans nos tests, le troisième test à pris 47 secondes. Nous avons testé une solution avec 12\n",
    "places à visiter soit (0, 2, 7, 13, 11, 16, 15, 7, 9, 8, 4, 16) et celà à pris 485.374 secondes. Une énorme différence en\n",
    "comparaison à une solution de 11 places.\n",
    "\n",
    "Pour la deuxième partie du laboratoire, nous avons utilisé l''algorithme A* pour trouver une solution complète. L''algorithme A*\n",
    "est aussi d''ordre exponentielle. Par contre, sa performance dépend de la fonction heuristique qui est utilisée. Plus la fonction\n",
    "heurisitique limite l''estimation, plus A* est performante et éliminera des branches qui sont inutile à visiter. A* prend tout\n",
    "de même beaucoup de mémoire puisqu''il peut y avoir un grand nombre de noeuds à stocker et un tri doit être fait à chaque\n",
    "itération. Il est favorable d''utiliser l''algorithme A* lorsqu''on a une bonne fonction heuristique. Dans le pire des cas, A* \n",
    "est du même ordre que BFS, soit lorsque la fonction heuristique ne limite pas l''estimation. On utilise A* lorsqu''on possède une\n",
    "fonction heuristique limitante et lorsqu''on a un nombre moyen de noeuds. La performance ne dépend que de la fonction \n",
    "heuristique. Comme nous l''avons fait dans le présent laboratoire, nous avons implémenté l''algorithme de Edmond pour obtenir\n",
    "l''arbre couvrant de poids minimal. Cet algorithme nous permet d''obtenir une borne inférieur beaucoup plus serrée que \n",
    "l''algorithme de Djikstra. Ainsi, il a été possible de constater une différence notable dans le temps d''exécution des tests\n",
    "pour l''algorithme A*.\n",
    "\n",
    "Pour la troisième partie du laboratoire, nous avons utilisé VNS pour trouver une solution complète. Nous utilisons cet\n",
    "algorithme pour résoudre des problèmes pratiques que l''on peut retrouver en industrie. En effet, on utilisera VNS lorsqu''il \n",
    "y aura un problème avec un grand nombre de noeuds à visiter. VNS ne garantie pas la solution la plus optimale mais retrouvera\n",
    "certainement une bonne solution. Un avantage d''utiliser VNS est que VNS effectue des calculs en parallèle sur différents\n",
    "voisinages pour retourner la meilleur solution.\n",
    "\n"
   ]
  }
 ],
 "metadata": {
  "colab": {
   "name": "tp1_2018.ipynb",
   "provenance": [],
   "version": "0.3.2"
  },
  "kernelspec": {
   "display_name": "Python 3",
   "language": "python",
   "name": "python3"
  },
  "language_info": {
   "codemirror_mode": {
    "name": "ipython",
    "version": 3
   },
   "file_extension": ".py",
   "mimetype": "text/x-python",
   "name": "python",
   "nbconvert_exporter": "python",
   "pygments_lexer": "ipython3",
   "version": "3.6.5"
  }
 },
 "nbformat": 4,
 "nbformat_minor": 1
}
