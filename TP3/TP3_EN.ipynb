{
 "cells": [
  {
   "cell_type": "markdown",
   "metadata": {},
   "source": [
    "# INF 8215 - Intelligence artif.: méthodes et algorithmes \n",
    "## Fall 2018 - TP3 - Machine Learning"
   ]
  },
  {
   "cell_type": "markdown",
   "metadata": {},
   "source": [
    "**Due date: December 6**\n",
    "\n",
    "**Files to submit:**\n",
    "    * TP3_EN.ipynb filled\n",
    "    * SoftmaxClassifier.py filled\n",
    "    * test_prediction.csv prediction file"
   ]
  },
  {
   "cell_type": "markdown",
   "metadata": {},
   "source": [
    "## Introduction\n",
    "\n",
    "The purpose of this lab is to give you an overview of the general course of a machine learning project while familiarizing you with adapted python libraries.\n",
    "\n",
    "\n",
    "In the first part, you will implement a multi-class classification algorithm called **softmax regression** using only **numpy** library and embed it in the **scikit-learn** library.\n",
    "\n",
    "In the second part, you will learn about the **dataset** used for this project. Moreover, you will have to perform the **preprocessing** of these data so that it can be used in conventional machine learning algorithms. To this end, you will use **pandas** and **scikit-learn** libraries.\n",
    "\n",
    "Finally, in the third part, you will compare the efficiency of the model that you have implemented with other models already implemented in **scikit-learn**. Then you will try to improve the performance of the selected algorithm.\n",
    "\n",
    "Once all these steps are done, you will submit your results on the **kaggle** platform."
   ]
  },
  {
   "cell_type": "markdown",
   "metadata": {},
   "source": [
    "## Installation\n",
    "\n",
    "To install **pandas** and **scikit-learn**, the easiest way is to download and install **Anaconda**, which groups together the most used packages for scientific computing and data science.\n",
    "\n",
    "You will find the distribution here: https://www.anaconda.com/download/#linux.\n",
    "\n",
    "Make sure you have **scikit-learn** **20.0**."
   ]
  },
  {
   "cell_type": "markdown",
   "metadata": {},
   "source": [
    "## Bonus 1: Competition (2 points)\n",
    "\n",
    "When you finish the lab, you can submit your predictions on **kaggle**, you will get your performance in terms of **log loss**.\n",
    "You can then send me this result by email (laurent.boucaud@polymtl.ca) and join your prediction file on the test set (for verification).\n",
    "\n",
    "A conversation in the forum will be created to keep up to date the best score obtained by one of the teams of the course.\n",
    "\n",
    "As long as no forum is created, **do not send me your performances if they are above 0.8 of log loss**.\n",
    "\n",
    "Once the first best score posted in the forum, **only give me your results if your log loss is lower than the previous best score**.\n",
    "\n",
    "The number of points obtained will be proportional to the ranking of the teams."
   ]
  },
  {
   "cell_type": "markdown",
   "metadata": {},
   "source": [
    "# 1. Softmax Regression (10 points)\n",
    "\n",
    "\n",
    "In this part you will implement **softmax regression**, the **logistic regression** variant which allows you to perform classification for a class number greater than 2.\n",
    "\n",
    "The code to be completed is in the **SoftmaxClassifier.py** file.\n",
    "\n",
    "**For this exercise, the constraint is to use only the numpy library **\n",
    "\n",
    "## Sklearn encapsulation\n",
    "\n",
    "\n",
    "The class **SoftmaxClassifier** inherits from the **BaseEstimator** and **ClassifierMixin** classes from **scikit-learn** which will allow us to easily use the tools provided by scikit-learn with our classifier later.\n",
    "\n",
    "For compatibility, the classifier necessarily implements the methods:\n",
    "\n",
    "* **fit**: responsible for training the model\n",
    "* **predict_proba**: Predicts the probability of each class for each example in the dataset provided.\n",
    "* **predict**: Predicts the class for each example in the provided dataset.\n",
    "* **score**: quantifies the difference between the predicted classes and the actual classes for the dataset provided\n",
    "\n",
    "\n",
    "## Train/Test set:\n",
    "\n",
    "When one wants to test the performance of learning a machine learning algorithm, one **does not test it on the data used for learning**.\n",
    "\n",
    "Indeed, what interests us is that our algorithm is able to generalize its predictions to the data that it has never seen.\n",
    "\n",
    "To illustrate, if we test an algorithm on the training data, we test its ability to **learn by heart** the dataset and not to **generalize**.\n",
    "\n",
    "Therefore, when receiving a new dataset, the first thing to do is to **split it into two parts**: a **train set** (**70-80%** of the dataset) and a **test set** (**20-30%** of the dataset).\n",
    "\n",
    "All **data processing** and **learning algorithms** should be learned only on the training set and then applied to the test set.\n",
    "\n",
    "By doing so, the lack of prior knowledge of the test set during training is ensured.\n",
    "\n",
    "## Gradient descent\n",
    "\n",
    "Gradient descent is an algorithm that allows finding the optimal solution of a certain number of problems. The principle is as follows: we define a **cost function J** that characterizes the problem.\n",
    "This function depends on a set of **$\\theta$** parameters. Gradient descent seeks to **minimize** the cost function by **iteratively modifying** the parameters.\n",
    "\n",
    "### Gradient\n",
    "\n",
    "The cost function gradient for a given $\\theta$, is the direction in which $\\theta$ must be modified to reduce the value of the cost function.\n",
    "\n",
    "The cost function is minimal when the gradient is zero.\n",
    "\n",
    "Concretely, we initialize $\\theta$ randomly, and we do at each iteration a step to reduce the cost function until convergence of the algorithm to a minimum of the cost function.\n",
    "\n",
    "### Learning rate\n",
    "\n",
    "\n",
    "The learning rate represents the size of the step that will be made in the direction of the gradient.\n",
    "The larger it is, the faster the convergence, but there is a risk that the algorithm will diverge.\n",
    "\n",
    "The smaller it is, the slower the convergence.\n",
    "\n",
    "### Batch gradient descent\n",
    "\n",
    "There are several gradient descent algorithms. We will use Batch gradient descent.\n",
    "\n",
    "In this algorithm, before updating $\\theta$, we calculate the gradients on all the training examples.\n",
    "\n",
    "### Epoch\n",
    "\n",
    "This is a step of the gradient descent, a single gradient update.\n",
    "\n",
    "### Bias/Variance tradeoff\n",
    "\n",
    "When training a machine learning algorithm we look for a tradeoff between **bias** and **variance**.\n",
    "\n",
    "A model with a **strong bias**, is a model that is **too simple** for the given data structure (e.g., a linear model for quadratic data), this limits the capacity of the model to generalize. We also call bias  **underfitting**.\n",
    "\n",
    "A model with a **high variance** means that it is sensitive to small variations in training data, this corresponds to **overfitting**, i.e., the model is too close to the structure of the training set which **limits its ability to generalize**.\n",
    "\n",
    "A model with a **significant bias** will have a **poor** performance over the **training set**.\n",
    "A model with a **significant variance** will have a much worse **performance** on the entire **test set** than on the  **train set**.\n",
    "\n"
   ]
  },
  {
   "cell_type": "markdown",
   "metadata": {},
   "source": [
    "### One-hot-encoding\n",
    "\n",
    "In machine learning to represent a vector of categorical data, we use one-hot encoding.\n",
    "\n",
    "For a vector containing 5 examples and 3 different categories, it is represented as a matrix of size 5 by 3. This matrix is entirely filled with 0 except for the index corresponding to the number of the class for each example.\n",
    "\n",
    "\n",
    "For example\n",
    "$ y = \\left(\\begin{array}{cc} \n",
    "1 \\\\\n",
    "1 \\\\\n",
    "2 \\\\\n",
    "3 \\\\\n",
    "2 \\\\\n",
    "\\end{array}\\right) $\n",
    "\n",
    "becomes:\n",
    "\n",
    "$ yohe =  \\left(\\begin{array}{cc} \n",
    "1. & 0. & 0.\\\\\n",
    "1. & 0. & 0.\\\\\n",
    "0. & 1. & 0.\\\\\n",
    "0. & 0. & 1.\\\\\n",
    "0. & 1. & 0.\\\\\n",
    "\\end{array}\\right) $\n",
    "\n",
    "\n",
    "#### Question 1 (1 point)\n",
    "Implement the **_one_hot** method in SoftmaxClassifier.py"
   ]
  },
  {
   "cell_type": "code",
   "execution_count": 2,
   "metadata": {},
   "outputs": [],
   "source": [
    "def _one_hot(self,y):\n",
    "    tmp=np.zeros((y.shape[0],self.nb_classes))\n",
    "    for i in range(y.shape[0]):\n",
    "        invoked_classc=int(y[i][0])\n",
    "        tmp[i][invoked_classc]=1\n",
    "    return tmp"
   ]
  },
  {
   "cell_type": "markdown",
   "metadata": {},
   "source": [
    "### Weight matrix\n",
    "\n",
    "Let $ X_{m * n} $ be the example matrix and $ \\Theta _{n*K} $ the weight matrix with:\n",
    "\n",
    "* **m** number of examples\n",
    "* **n** number of features\n",
    "* **k** number of target classes\n",
    "\n",
    "\n",
    "\n",
    "It is common to add an additional column to X, this column is filled with 1. To take into account this change, we must add a line to the matrix $\\Theta$.\n",
    "\n",
    "We get X_bias$_{m*(n+1)}$ et $ \\Theta _{(n+1)*K} $\n",
    "\n",
    "\n",
    "Intuitively, each class K is associated with a $\\theta$ column.\n",
    "\n",
    "We denote by $\\theta_k$ (n+1 dimension vector) the weight column associated with the prediction of class k .\n",
    "\n",
    "$\\Theta$ = [$\\theta_0$,$\\theta_1$... $\\theta_k$ ... $\\theta_n$ ]\n",
    "\n",
    "Thus $ z = x * \\Theta $ gives a vector of dimension K which are **logits** associated with x for each class.\n",
    "\n",
    "#### Question 2 (1 point)\n",
    "\n",
    "In the **fit** function in SoftmaxClassifier.py instantiate X_bias and initialize $\\Theta$  randomly. (line 74)"
   ]
  },
  {
   "cell_type": "code",
   "execution_count": 3,
   "metadata": {},
   "outputs": [],
   "source": [
    "def fit(self, X, y=None):\n",
    "\n",
    "    prev_loss = np.inf\n",
    "    self.losses_ = []\n",
    "\n",
    "    self.nb_feature = X.shape[1]\n",
    "    self.nb_classes = len(np.unique(y))\n",
    "    tmp=np.ones((X.shape[0],1))\n",
    "    X_bias = np.concatenate((tmp,X),axis=1)\n",
    "    self.theta_=np.random.rand(self.nb_feature+1,self.nb_classes)\n",
    "    return self"
   ]
  },
  {
   "cell_type": "markdown",
   "metadata": {},
   "source": [
    "### Softmax\n",
    "\n",
    "We want to convert the logit vector **z** obtained in the previous part into a **probability vector**.\n",
    "\n",
    "For this we define the **softmax function**:\n",
    "\n",
    "\n",
    "$$ \\hat{p_x}^k = softmax(z)_k = \\frac{exp(z_k)}{\\sum_{\\substack{1<j<K}} exp(z_j)} $$\n",
    "\n",
    "\n",
    "Intuitively, for a logit of z, $z_k$, we take the exponential of this value and divide it by the sum of the exponentials of each logit of the vector **z**. We get $\\hat{p_x}^k$ the probability that the example **x** belongs to the class **k**.\n",
    "\n",
    "The operation is repeated for each logit of the vector **z**.\n",
    "\n",
    "We thus obtain a probability vector $\\hat{p_x}$ for an example **x**.\n",
    "\n",
    "The division makes it possible to make the sum of the terms of the vector $\\hat{p_x}$ equal to 1 which is indispensable for probabilities.\n",
    "\n",
    "#### Question 3 (1 point)\n",
    "Implement  **_softmax** method in SoftmaxClassifier.py"
   ]
  },
  {
   "cell_type": "code",
   "execution_count": 4,
   "metadata": {},
   "outputs": [],
   "source": [
    "def _softmax(self,z):\n",
    "    prob_vector=np.exp(z)\n",
    "    tmp_sum=np.sum(prob_vector,axis=1)\n",
    "    tmp_sum=tmp_sum.reshape(tmp_sum.shape[0],1)\n",
    "    return prob_vector/tmp_sum"
   ]
  },
  {
   "cell_type": "markdown",
   "metadata": {},
   "source": [
    "#### Question 4 (1 point)\n",
    "\n",
    "Using the **_ softmax** function of question 3, implement the **predict_proba** and **predict** methods in SoftmaxClassifier.py"
   ]
  },
  {
   "cell_type": "code",
   "execution_count": 5,
   "metadata": {},
   "outputs": [],
   "source": [
    "def predict(self, X, y=None):\n",
    "    try:\n",
    "        getattr(self, \"theta_\")\n",
    "    except AttributeError:\n",
    "        raise RuntimeError(\"You must train classifer before predicting data!\")\n",
    "    predicted_prob=self.predict_proba(X,None)\n",
    "    result=np.argmax(predicted_prob,axis=1)\n",
    "    return result.reshape(result.shape[0],1)"
   ]
  },
  {
   "cell_type": "markdown",
   "metadata": {},
   "source": [
    "### Fonction de coût Log loss\n",
    "\n",
    "Let log loss (ou cross entropy) be the cost function:\n",
    "\n",
    "$$ J( \\Theta) = \\frac{-1}{m}\\sum_{\\substack{1<i<m}} \\sum_{\\substack{1<k<K}} y_k^i log( \\hat{p_k}^i ) $$\n",
    "\n",
    "with:\n",
    "* **K** number of classes\n",
    "* **m** number of examples\n",
    "* $ \\hat{p_k}^i  $  probability that example i be of target class k\n",
    "* $y_k^i$ is 1 if the target class of example i is k, 0 otherwise\n",
    "\n",
    "**Implementation detail:** Cost function is not defined for probabilities taking values 0. or 1., we must ensure that given $\\epsilon$, probabilities are in  [$\\epsilon$, 1. - $\\epsilon$].\n",
    "#### Question 5 (1 point)\n",
    "\n",
    "Implement the **_ cost_function** method in SoftmaxClassifier.py by taking into account the **implementation detail** (self.eps variable) and use it to calculate the **loss** variable in the **fit** method (line 84)"
   ]
  },
  {
   "cell_type": "code",
   "execution_count": 6,
   "metadata": {},
   "outputs": [],
   "source": [
    "def _cost_function(self,probabilities, y ):\n",
    "    m=probabilities.shape[0]\n",
    "    p_processed=np.clip(probabilities,self.eps,1-self.eps)\n",
    "    cost_sum=0\n",
    "    y_one_hot=self._one_hot(y)\n",
    "    for i in range(m):\n",
    "        c = np.argmax(y_one_hot[i,:]) # class\n",
    "        cost_sum += np.log(p_processed[i,c])\n",
    "    return (-1/m)*cost_sum"
   ]
  },
  {
   "cell_type": "markdown",
   "metadata": {},
   "source": [
    "### Cost function gradient\n",
    "\n",
    "The **gradient of J** with respect to $\\theta_k$ is :\n",
    "\n",
    "\n",
    "$$ \\Delta_{\\theta_k}J( \\Theta) = \\frac{1}{m} \\sum_{\\substack{1<i<m}}( \\hat{p_k}^i - y_k^i)x^i  $$\n",
    "\n",
    "with:\n",
    "* **K** number of target classes\n",
    "* **m** number of examples\n",
    "* $ \\hat{p_k}^i  $  probability that example i is of class k\n",
    "* $y_k^i$ is 1 if example i target class is k, 0 otherwise\n",
    "\n",
    "\n",
    "We can rewrite it as matrices, the **gradient of J** with respect to $\\Theta$** is :\n",
    "$$ \\Delta_J( \\Theta) = \\frac{1}{m} X_{bias}^T *( \\hat{p} - y_{ohe}) $$\n",
    "\n",
    "with:\n",
    "\n",
    "* $\\hat{p}$ predicted probability matrix for every example and every class\n",
    "* $y_{ohe}$ one-hot encoded y\n",
    "* $X_{bias}^T$  Transposed matrix of $X_{bias}$\n",
    "* **\\*** Dot product\n",
    "\n",
    "#### Question 6 (1 point)\n",
    "Implement  **_get_gradient** method in SoftmaxClassifier.py"
   ]
  },
  {
   "cell_type": "code",
   "execution_count": 7,
   "metadata": {},
   "outputs": [],
   "source": [
    "def _get_gradient(self,X,y, probas):\n",
    "    m=y.shape[0]\n",
    "    tmp=np.ones((X.shape[0],1))\n",
    "    X_bias = np.concatenate((tmp,X),axis=1)\n",
    "    gradients_costfunction=(1/m)*np.dot((np.transpose(X_bias)),probas-self._one_hot(y))\n",
    "    return gradients_costfunction"
   ]
  },
  {
   "cell_type": "markdown",
   "metadata": {},
   "source": [
    "### Weights update\n",
    "\n",
    "When the gradient has been computed, we must update the weights with these gradients.\n",
    "\n",
    "\n",
    "$$ \\Theta  = \\Theta - \\gamma \\Delta J( \\Theta) $$\n",
    "\n",
    "\n",
    "with:\n",
    "* $\\Theta$ weight matrix\n",
    "* $\\gamma$  learning rate\n",
    "* $\\Delta J( \\Theta)$ gradient of $J( \\Theta)$ with respect to $\\Theta$\n",
    "\n",
    "#### Question 7 (1 point)\n",
    "Update **self.theta_** in the **fit** method in SoftmaxClassifier.py (line 85)"
   ]
  },
  {
   "cell_type": "code",
   "execution_count": 8,
   "metadata": {},
   "outputs": [],
   "source": [
    "def fit(self, X, y=None):\n",
    "\n",
    "    prev_loss = np.inf\n",
    "    self.losses_ = []\n",
    "\n",
    "    self.nb_feature = X.shape[1]\n",
    "    self.nb_classes = len(np.unique(y))\n",
    "\n",
    "    tmp = np.ones((X.shape[0], 1))\n",
    "    X_bias = np.concatenate((tmp, X), axis=1)\n",
    "    self.theta_ = np.random.rand(self.nb_feature + 1, self.nb_classes)\n",
    "\n",
    "    for epoch in range(self.n_epochs):\n",
    "\n",
    "        # logits =\n",
    "        probabilities = self.predict_proba(X)\n",
    "\n",
    "        loss = self._cost_function(probabilities, y)\n",
    "        gradient = self._get_gradient(X, y, probabilities)\n",
    "        self.theta_ = self.theta_ - self.lr * gradient\n",
    "\n",
    "        self.losses_.append(loss)\n",
    "    return self"
   ]
  },
  {
   "cell_type": "markdown",
   "metadata": {},
   "source": [
    "### Regularization\n",
    "\n",
    "To limit **overfitting**, we use the regularization, we add a term to the function of cost $J( \\Theta)$.\n",
    "\n",
    "This term will add constraints on the weight of the model during training.\n",
    "We will use the **L2** regularization:\n",
    "\n",
    "\n",
    "$$ L2(\\Theta) = \\alpha \\sum_{\\substack{1<=i<n}} \\sum_{\\substack{0<=k<K}} \\theta_{i,k}^2 $$ \n",
    "\n",
    "with:\n",
    "\n",
    "* $\\alpha$ regularization coefficient\n",
    "\n",
    "**Note:** The first sum does not start at 0 but at 1 because we do not adjust the weights associated with the X bias column.\n",
    "\n",
    "Adding this term leads the model to learn the data while keeping its weight as small as possible.\n",
    "\n",
    "\n",
    "\n",
    "#### Question 8 (1 point)\n",
    "\n",
    "Modify the methods **_ get_gradient** and **_ cost_function** to take into account the regularization when the boolean self.regularization is true in SoftmaxClassifier.py"
   ]
  },
  {
   "cell_type": "code",
   "execution_count": 9,
   "metadata": {},
   "outputs": [],
   "source": [
    "def _get_gradient(self,X,y, probas):\n",
    "    if self.regularization:\n",
    "        m=y.shape[0]\n",
    "        tmp=np.ones((X.shape[0],1))\n",
    "        X_bias = np.concatenate((tmp,X),axis=1)\n",
    "        tmp_labels=self._one_hot(y)\n",
    "        tmp_subtraction=probas-tmp_labels\n",
    "        gradients_costfunction=(1/m)*(np.dot((np.transpose(X_bias)),tmp_subtraction))\n",
    "        gradients_costfunction[1:,:]+=2*self.alpha*self.theta_[1:,:]/m\n",
    "    else:\n",
    "        m=y.shape[0]\n",
    "        tmp=np.ones((X.shape[0],1))\n",
    "        X_bias = np.concatenate((tmp,X),axis=1)\n",
    "        gradients_costfunction=(1/m)*np.dot((np.transpose(X_bias)),probas-self._one_hot(y))\n",
    "    return gradients_costfunction\n"
   ]
  },
  {
   "cell_type": "markdown",
   "metadata": {},
   "source": [
    "#### Question 9 (1 point)\n",
    "\n",
    "The regularization term is used only during training. When one wants to evaluate the performance of the model **after training**, one uses the **non-regulated** cost function.\n",
    "\n",
    "Implement the **score** function that evaluates the quality of the prediction **after training** in SoftmaxClassifier.py"
   ]
  },
  {
   "cell_type": "code",
   "execution_count": 10,
   "metadata": {},
   "outputs": [],
   "source": [
    "def score(self, X, y=None):\n",
    "    sum_number=X.shape[0]\n",
    "    result=self.predict(X,y)\n",
    "    tmp=result-y\n",
    "    right_number=sum(tmp==0)\n",
    "    return right_number[0]/sum_number"
   ]
  },
  {
   "cell_type": "markdown",
   "metadata": {},
   "source": [
    "### Early stopping\n",
    "\n",
    "Too many **epochs** can result in **overfitting**.\n",
    "To overcome this problem, we can use the mechanism of **early stopping**.\n",
    "This aims to stop the training if the difference in the cost function between two **consecutive epochs** is less than a defined **threshold**.\n",
    "\n",
    "\n",
    "\n",
    "\n",
    "#### Question 10 (1 point)\n",
    "\n",
    "Finish implementing the **fit** function by adding the **early stopping** mechanism when the **self.early_stopping** boolean is true. The threshold is given by the **self.threshold variable** ."
   ]
  },
  {
   "cell_type": "code",
   "execution_count": 11,
   "metadata": {},
   "outputs": [],
   "source": [
    "def fit(self, X, y=None):\n",
    "\n",
    "    prev_loss = np.inf\n",
    "    self.losses_ = []\n",
    "\n",
    "    self.nb_feature = X.shape[1]\n",
    "    self.nb_classes = len(np.unique(y))\n",
    "\n",
    "    tmp = np.ones((X.shape[0], 1))\n",
    "    X_bias = np.concatenate((tmp, X), axis=1)\n",
    "    self.theta_ = np.random.rand(self.nb_feature + 1, self.nb_classes)\n",
    "\n",
    "    for epoch in range(self.n_epochs):\n",
    "\n",
    "        # logits =\n",
    "        probabilities = self.predict_proba(X)\n",
    "\n",
    "        loss = self._cost_function(probabilities, y)\n",
    "        gradient = self._get_gradient(X, y, probabilities)\n",
    "        self.theta_ = self.theta_ - self.lr * gradient\n",
    "        self.losses_.append(loss)\n",
    "        if self.early_stopping:\n",
    "            if epoch > 1 and abs(self.losses_[epoch] - self.losses_[epoch - 1]) < self.threshold:\n",
    "                break\n",
    "    return self"
   ]
  },
  {
   "cell_type": "markdown",
   "metadata": {},
   "source": [
    "## Testing the solution:\n",
    "\n",
    "The code below imports the **iris** multiclass  classification dataset available on sklearn. The data is divided into two parts, the training set and the test set, and then they are normalized.\n",
    "\n",
    "The classifier implemented in the **SoftmaxClassifier.py** file is imported and then trained on the training set and tested on the test set.\n",
    "\n",
    "The purpose of this part is just to check your implementation **when you are sure your code is working**."
   ]
  },
  {
   "cell_type": "code",
   "execution_count": 112,
   "metadata": {},
   "outputs": [],
   "source": []
  },
  {
   "cell_type": "code",
   "execution_count": 1,
   "metadata": {},
   "outputs": [],
   "source": [
    "import numpy as np\n",
    "from sklearn.datasets import load_iris\n",
    "from sklearn.model_selection import train_test_split\n",
    "from sklearn.preprocessing import StandardScaler\n",
    "from SoftmaxClassifier import SoftmaxClassifier\n",
    "\n",
    "# load dataset\n",
    "data,target =load_iris().data,load_iris().target\n",
    "\n",
    "# split data in train/test sets\n",
    "X_train, X_test, y_train, y_test = train_test_split( data, target, test_size=0.33, random_state=42)\n",
    "\n",
    "# standardize columns using normal distribution\n",
    "# fit on X_train and not on X_test to avoid Data Leakage\n",
    "s = StandardScaler()\n",
    "X_train = s.fit_transform(X_train)\n",
    "X_test = s.transform(X_test)"
   ]
  },
  {
   "cell_type": "code",
   "execution_count": 2,
   "metadata": {},
   "outputs": [],
   "source": [
    "#from SoftmaxClassifier import SoftmaxClassifier\n",
    "\n",
    "# import the custom classifier\n",
    "cl = SoftmaxClassifier()\n",
    "y_train=y_train.reshape((y_train.shape[0],1))\n",
    "# train on X_train and not on X_test to avoid overfitting\n",
    "train_p = cl.fit_predict(X_train,y_train)\n",
    "test_p = cl.predict(X_test)"
   ]
  },
  {
   "cell_type": "markdown",
   "metadata": {},
   "source": [
    "If you get relatively close values for the test and training set, and they are at least greater than 0.8, your model should be correct."
   ]
  },
  {
   "cell_type": "code",
   "execution_count": 3,
   "metadata": {},
   "outputs": [
    {
     "name": "stdout",
     "output_type": "stream",
     "text": [
      "train : (0.86956521739130432, 0.84705882352941175, 0.84137931034482749, None)\n",
      "test : (0.88888888888888884, 0.8222222222222223, 0.81212121212121213, None)\n"
     ]
    }
   ],
   "source": [
    "from sklearn.metrics import precision_recall_fscore_support\n",
    "\n",
    "# display precision, recall and f1-score on train/test set\n",
    "print(\"train : \"+ str(precision_recall_fscore_support(y_train, train_p,average = \"macro\")))\n",
    "print(\"test : \"+ str(precision_recall_fscore_support(y_test, test_p,average = \"macro\")))"
   ]
  },
  {
   "cell_type": "code",
   "execution_count": 5,
   "metadata": {},
   "outputs": [
    {
     "data": {
      "image/png": "[encoded data removed]",
      "text/plain": [
       "<Figure size 432x288 with 1 Axes>"
      ]
     },
     "metadata": {},
     "output_type": "display_data"
    },
    {
     "name": "stdout",
     "output_type": "stream",
     "text": [
      "[5.1843274719843393, 3.6347058572777149, 2.6539175829816815, 2.0318695541866796, 1.6365931871047432, 1.3849971288497884, 1.224618299051647, 1.1222462351476659, 1.0568120364897258, 1.0149258887373094, 0.98806623568513829, 0.97080367427808389, 0.95967578447860613, 0.95247287274970194, 0.94778383146001954, 0.94470701824496117, 0.94266600702053971, 0.9412920770470482, 0.94034921860327381, 0.93968624783993826, 0.93920621862355724, 0.93884687672558553, 0.93856816648820918, 0.93834424331832822, 0.93815836577654377, 0.93799962839496664, 0.93786087137767393, 0.93773734287598343, 0.93762584258178461, 0.93752417319836256, 0.93743078887650577, 0.9373445696812498, 0.93726467671789404, 0.93719045889398422, 0.93712139274971806, 0.93705704347702246, 0.93699703952551316, 0.93694105593022892, 0.93688880324679713, 0.93684002009985201, 0.93679446806723821, 0.93675192808115448, 0.93671219782091009, 0.93667508975985714, 0.93664042964932148, 0.93660805529941382, 0.93657781556596131, 0.93654956948444645, 0.93652318551217251, 0.93649854085291018, 0.9364755208467288, 0.93645401841312292, 0.93643393353908766, 0.93641517280610698, 0.93639764895152822, 0.93638128046081681, 0.93636599118787045, 0.93635171000106143, 0.93633837045298218, 0.93632591047217173, 0.93631427207523155, 0.93630340109793719, 0.9362932469440487, 0.93628376235063149]\n"
     ]
    }
   ],
   "source": [
    "import matplotlib.pyplot as plt\n",
    "\n",
    "plt.plot(cl.losses_)\n",
    "plt.show()\n",
    "print(cl.losses_)"
   ]
  },
  {
   "cell_type": "markdown",
   "metadata": {},
   "source": [
    "# 2. Data preprocessing (8 points)\n",
    "\n",
    "##  Kaggle \n",
    "\n",
    "Kaggle is a website dedicated to machine learning. There is a large number of datasets.\n",
    "Competitions are organized by companies and organisations. These provide a dataset and a goal. The \"kagglers\" who participate in these competitions submit their results online. There are often prices or jobs for those who get the best results.\n",
    "\n",
    "This is a good way to develop machine learning skills on real datasets.\n",
    "\n",
    "You can create an account if you want to compare your results to those already online for the dataset we are going to study.\n",
    "\n",
    "You can create an account here: https://www.kaggle.com/\n",
    "\n",
    "## Austin Animal Center Shelter Animal Outcomes dataset\n",
    "The dataset that we will use is the \"Animal Outcomes dataset\" available at the following address: https://www.kaggle.com/c/shelter-animal-outcomes.\n",
    "\n",
    "This is a problem of **multi-class classification** where animals are collected in a shelter after being abandoned, the purpose is to predict how they will \"leave\" the place:\n",
    "* Adoption\n",
    "* Back to the owner\n",
    "* Death\n",
    "* Euthanasia\n",
    "* Transfer to another center\n",
    "\n",
    "For more information on data, go to kaggle.\n",
    "\n",
    "## Structure of a machine learning project\n",
    "\n",
    "The goal of the this part of the lab is to make you study a simplified version of a complete machine learning project:\n",
    "\n",
    "1. Data cleaning, missing value processing\n",
    "2. Formatting Data for Use in Machine Learning Algorithms\n",
    "3. Feature engineering transformation or feature combinations between them\n",
    "4. Comparison of the performances of the different choices made during the data processing\n",
    "5. Comparison of the performances of different models (including the one implemented in the first part)\n",
    "6. Optimization of hyper-parameters\n",
    "\n",
    "\n",
    "## Scikit-learn\n",
    "http://scikit-learn.org/stable/\n",
    "\n",
    "It is a machine learning and data mining library, it offers tools for data analysis and processing, classical machine learning algorithms such as neural networks, logistic regression, SVM or other, finally tools to compare models between them such as cross validation.\n",
    "\n",
    "## Pandas\n",
    "\n",
    "A library to store and manipulate data easily\n",
    "\n",
    "The two basic elements of pandas are the dataframe and the series.\n",
    "\n",
    "https://pandas.pydata.org/pandas-docs/version/0.23/generated/pandas.DataFrame.html\n",
    "\n",
    "## Data processing tutorial\n",
    "\n",
    "** Before continuing the lab **, familiarize yourself with the **pre-processing data**, **pandas** and **scikit-learn**, a tutorial is available in the file: *data_processing_tutorial.ipynb**"
   ]
  },
  {
   "cell_type": "markdown",
   "metadata": {},
   "source": [
    "## Dataset\n",
    "\n",
    "#### Load train/test sets"
   ]
  },
  {
   "cell_type": "code",
   "execution_count": 6,
   "metadata": {},
   "outputs": [],
   "source": [
    "import pandas as pd\n",
    "\n",
    "PATH = \"data/\"\n",
    "X_train = pd.read_csv(PATH + \"train.csv\")\n",
    "X_test = pd.read_csv(PATH + \"test.csv\")"
   ]
  },
  {
   "cell_type": "markdown",
   "metadata": {},
   "source": [
    "#### Useless features removal"
   ]
  },
  {
   "cell_type": "code",
   "execution_count": 7,
   "metadata": {},
   "outputs": [],
   "source": [
    "X_train = X_train.drop(columns = [\"OutcomeSubtype\",\"AnimalID\"])\n",
    "X_test = X_test.drop(columns = [\"ID\"])"
   ]
  },
  {
   "cell_type": "code",
   "execution_count": 8,
   "metadata": {},
   "outputs": [],
   "source": [
    "X_train, y_train = X_train.drop(columns = [\"OutcomeType\"]),X_train[\"OutcomeType\"]"
   ]
  },
  {
   "cell_type": "markdown",
   "metadata": {},
   "source": [
    "#### first 5  examples of the training set"
   ]
  },
  {
   "cell_type": "code",
   "execution_count": 9,
   "metadata": {},
   "outputs": [
    {
     "data": {
      "text/html": [
       "<div>\n",
       "<style scoped>\n",
       "    .dataframe tbody tr th:only-of-type {\n",
       "        vertical-align: middle;\n",
       "    }\n",
       "\n",
       "    .dataframe tbody tr th {\n",
       "        vertical-align: top;\n",
       "    }\n",
       "\n",
       "    .dataframe thead th {\n",
       "        text-align: right;\n",
       "    }\n",
       "</style>\n",
       "<table border=\"1\" class=\"dataframe\">\n",
       "  <thead>\n",
       "    <tr style=\"text-align: right;\">\n",
       "      <th></th>\n",
       "      <th>Name</th>\n",
       "      <th>DateTime</th>\n",
       "      <th>AnimalType</th>\n",
       "      <th>SexuponOutcome</th>\n",
       "      <th>AgeuponOutcome</th>\n",
       "      <th>Breed</th>\n",
       "      <th>Color</th>\n",
       "    </tr>\n",
       "  </thead>\n",
       "  <tbody>\n",
       "    <tr>\n",
       "      <th>0</th>\n",
       "      <td>Hambone</td>\n",
       "      <td>2014-02-12 18:22:00</td>\n",
       "      <td>Dog</td>\n",
       "      <td>Neutered Male</td>\n",
       "      <td>1 year</td>\n",
       "      <td>Shetland Sheepdog Mix</td>\n",
       "      <td>Brown/White</td>\n",
       "    </tr>\n",
       "    <tr>\n",
       "      <th>1</th>\n",
       "      <td>Emily</td>\n",
       "      <td>2013-10-13 12:44:00</td>\n",
       "      <td>Cat</td>\n",
       "      <td>Spayed Female</td>\n",
       "      <td>1 year</td>\n",
       "      <td>Domestic Shorthair Mix</td>\n",
       "      <td>Cream Tabby</td>\n",
       "    </tr>\n",
       "    <tr>\n",
       "      <th>2</th>\n",
       "      <td>Pearce</td>\n",
       "      <td>2015-01-31 12:28:00</td>\n",
       "      <td>Dog</td>\n",
       "      <td>Neutered Male</td>\n",
       "      <td>2 years</td>\n",
       "      <td>Pit Bull Mix</td>\n",
       "      <td>Blue/White</td>\n",
       "    </tr>\n",
       "    <tr>\n",
       "      <th>3</th>\n",
       "      <td>NaN</td>\n",
       "      <td>2014-07-11 19:09:00</td>\n",
       "      <td>Cat</td>\n",
       "      <td>Intact Male</td>\n",
       "      <td>3 weeks</td>\n",
       "      <td>Domestic Shorthair Mix</td>\n",
       "      <td>Blue Cream</td>\n",
       "    </tr>\n",
       "    <tr>\n",
       "      <th>4</th>\n",
       "      <td>NaN</td>\n",
       "      <td>2013-11-15 12:52:00</td>\n",
       "      <td>Dog</td>\n",
       "      <td>Neutered Male</td>\n",
       "      <td>2 years</td>\n",
       "      <td>Lhasa Apso/Miniature Poodle</td>\n",
       "      <td>Tan</td>\n",
       "    </tr>\n",
       "  </tbody>\n",
       "</table>\n",
       "</div>"
      ],
      "text/plain": [
       "      Name             DateTime AnimalType SexuponOutcome AgeuponOutcome  \\\n",
       "0  Hambone  2014-02-12 18:22:00        Dog  Neutered Male         1 year   \n",
       "1    Emily  2013-10-13 12:44:00        Cat  Spayed Female         1 year   \n",
       "2   Pearce  2015-01-31 12:28:00        Dog  Neutered Male        2 years   \n",
       "3      NaN  2014-07-11 19:09:00        Cat    Intact Male        3 weeks   \n",
       "4      NaN  2013-11-15 12:52:00        Dog  Neutered Male        2 years   \n",
       "\n",
       "                         Breed        Color  \n",
       "0        Shetland Sheepdog Mix  Brown/White  \n",
       "1       Domestic Shorthair Mix  Cream Tabby  \n",
       "2                 Pit Bull Mix   Blue/White  \n",
       "3       Domestic Shorthair Mix   Blue Cream  \n",
       "4  Lhasa Apso/Miniature Poodle          Tan  "
      ]
     },
     "execution_count": 9,
     "metadata": {},
     "output_type": "execute_result"
    }
   ],
   "source": [
    "X_train.head()"
   ]
  },
  {
   "cell_type": "markdown",
   "metadata": {},
   "source": [
    "#### first 5  examples of the test set"
   ]
  },
  {
   "cell_type": "code",
   "execution_count": 10,
   "metadata": {},
   "outputs": [
    {
     "data": {
      "text/html": [
       "<div>\n",
       "<style scoped>\n",
       "    .dataframe tbody tr th:only-of-type {\n",
       "        vertical-align: middle;\n",
       "    }\n",
       "\n",
       "    .dataframe tbody tr th {\n",
       "        vertical-align: top;\n",
       "    }\n",
       "\n",
       "    .dataframe thead th {\n",
       "        text-align: right;\n",
       "    }\n",
       "</style>\n",
       "<table border=\"1\" class=\"dataframe\">\n",
       "  <thead>\n",
       "    <tr style=\"text-align: right;\">\n",
       "      <th></th>\n",
       "      <th>Name</th>\n",
       "      <th>DateTime</th>\n",
       "      <th>AnimalType</th>\n",
       "      <th>SexuponOutcome</th>\n",
       "      <th>AgeuponOutcome</th>\n",
       "      <th>Breed</th>\n",
       "      <th>Color</th>\n",
       "    </tr>\n",
       "  </thead>\n",
       "  <tbody>\n",
       "    <tr>\n",
       "      <th>0</th>\n",
       "      <td>Summer</td>\n",
       "      <td>2015-10-12 12:15:00</td>\n",
       "      <td>Dog</td>\n",
       "      <td>Intact Female</td>\n",
       "      <td>10 months</td>\n",
       "      <td>Labrador Retriever Mix</td>\n",
       "      <td>Red/White</td>\n",
       "    </tr>\n",
       "    <tr>\n",
       "      <th>1</th>\n",
       "      <td>Cheyenne</td>\n",
       "      <td>2014-07-26 17:59:00</td>\n",
       "      <td>Dog</td>\n",
       "      <td>Spayed Female</td>\n",
       "      <td>2 years</td>\n",
       "      <td>German Shepherd/Siberian Husky</td>\n",
       "      <td>Black/Tan</td>\n",
       "    </tr>\n",
       "    <tr>\n",
       "      <th>2</th>\n",
       "      <td>Gus</td>\n",
       "      <td>2016-01-13 12:20:00</td>\n",
       "      <td>Cat</td>\n",
       "      <td>Neutered Male</td>\n",
       "      <td>1 year</td>\n",
       "      <td>Domestic Shorthair Mix</td>\n",
       "      <td>Brown Tabby</td>\n",
       "    </tr>\n",
       "    <tr>\n",
       "      <th>3</th>\n",
       "      <td>Pongo</td>\n",
       "      <td>2013-12-28 18:12:00</td>\n",
       "      <td>Dog</td>\n",
       "      <td>Intact Male</td>\n",
       "      <td>4 months</td>\n",
       "      <td>Collie Smooth Mix</td>\n",
       "      <td>Tricolor</td>\n",
       "    </tr>\n",
       "    <tr>\n",
       "      <th>4</th>\n",
       "      <td>Skooter</td>\n",
       "      <td>2015-09-24 17:59:00</td>\n",
       "      <td>Dog</td>\n",
       "      <td>Neutered Male</td>\n",
       "      <td>2 years</td>\n",
       "      <td>Miniature Poodle Mix</td>\n",
       "      <td>White</td>\n",
       "    </tr>\n",
       "  </tbody>\n",
       "</table>\n",
       "</div>"
      ],
      "text/plain": [
       "       Name             DateTime AnimalType SexuponOutcome AgeuponOutcome  \\\n",
       "0    Summer  2015-10-12 12:15:00        Dog  Intact Female      10 months   \n",
       "1  Cheyenne  2014-07-26 17:59:00        Dog  Spayed Female        2 years   \n",
       "2       Gus  2016-01-13 12:20:00        Cat  Neutered Male         1 year   \n",
       "3     Pongo  2013-12-28 18:12:00        Dog    Intact Male       4 months   \n",
       "4   Skooter  2015-09-24 17:59:00        Dog  Neutered Male        2 years   \n",
       "\n",
       "                            Breed        Color  \n",
       "0          Labrador Retriever Mix    Red/White  \n",
       "1  German Shepherd/Siberian Husky    Black/Tan  \n",
       "2          Domestic Shorthair Mix  Brown Tabby  \n",
       "3               Collie Smooth Mix     Tricolor  \n",
       "4            Miniature Poodle Mix        White  "
      ]
     },
     "execution_count": 10,
     "metadata": {},
     "output_type": "execute_result"
    }
   ],
   "source": [
    "X_test.head()"
   ]
  },
  {
   "cell_type": "markdown",
   "metadata": {},
   "source": [
    "#### first 5  examples of the target vector"
   ]
  },
  {
   "cell_type": "code",
   "execution_count": 11,
   "metadata": {},
   "outputs": [
    {
     "data": {
      "text/plain": [
       "0    Return_to_owner\n",
       "1         Euthanasia\n",
       "2           Adoption\n",
       "3           Transfer\n",
       "4           Transfer\n",
       "Name: OutcomeType, dtype: object"
      ]
     },
     "execution_count": 11,
     "metadata": {},
     "output_type": "execute_result"
    }
   ],
   "source": [
    "y_train.head()"
   ]
  },
  {
   "cell_type": "markdown",
   "metadata": {},
   "source": [
    "## To do\n",
    "\n",
    "To save you time, some of the columns (Name, DateTime, color) have already been processed.\n",
    "\n",
    "\n",
    "Using the tutorial provided, you must write a complete transformation pipeline for each of the remaining columns in the dataset (AgeuponOutcome, AnimalType, SexuponOutcome, Breed).\n",
    "\n",
    "You are **free** of your choices, but you must **justify** column by column.\n",
    "For example, you can choose to combine columns with each other, separate a column or eliminate a column completely if you correctly justify it.\n"
   ]
  },
  {
   "cell_type": "markdown",
   "metadata": {},
   "source": [
    "The already preprocessed part of the dataset is loaded in **X_train1** and **X_test1**"
   ]
  },
  {
   "cell_type": "code",
   "execution_count": 14,
   "metadata": {},
   "outputs": [],
   "source": [
    "X_train1 = pd.read_csv(\"data/train_preprocessed.csv\")\n",
    "X_test1 = pd.read_csv(\"data/test_preprocessed.csv\")"
   ]
  },
  {
   "cell_type": "code",
   "execution_count": 15,
   "metadata": {},
   "outputs": [
    {
     "data": {
      "text/html": [
       "<div>\n",
       "<style scoped>\n",
       "    .dataframe tbody tr th:only-of-type {\n",
       "        vertical-align: middle;\n",
       "    }\n",
       "\n",
       "    .dataframe tbody tr th {\n",
       "        vertical-align: top;\n",
       "    }\n",
       "\n",
       "    .dataframe thead th {\n",
       "        text-align: right;\n",
       "    }\n",
       "</style>\n",
       "<table border=\"1\" class=\"dataframe\">\n",
       "  <thead>\n",
       "    <tr style=\"text-align: right;\">\n",
       "      <th></th>\n",
       "      <th>Color</th>\n",
       "      <th>HasName</th>\n",
       "      <th>Month</th>\n",
       "      <th>Day</th>\n",
       "      <th>Hour</th>\n",
       "    </tr>\n",
       "  </thead>\n",
       "  <tbody>\n",
       "    <tr>\n",
       "      <th>0</th>\n",
       "      <td>0.973624</td>\n",
       "      <td>1.0</td>\n",
       "      <td>2.0</td>\n",
       "      <td>1.0</td>\n",
       "      <td>3.0</td>\n",
       "    </tr>\n",
       "    <tr>\n",
       "      <th>1</th>\n",
       "      <td>-1.421532</td>\n",
       "      <td>1.0</td>\n",
       "      <td>10.0</td>\n",
       "      <td>1.0</td>\n",
       "      <td>2.0</td>\n",
       "    </tr>\n",
       "    <tr>\n",
       "      <th>2</th>\n",
       "      <td>0.973624</td>\n",
       "      <td>1.0</td>\n",
       "      <td>1.0</td>\n",
       "      <td>3.0</td>\n",
       "      <td>2.0</td>\n",
       "    </tr>\n",
       "    <tr>\n",
       "      <th>3</th>\n",
       "      <td>-1.471381</td>\n",
       "      <td>0.0</td>\n",
       "      <td>7.0</td>\n",
       "      <td>1.0</td>\n",
       "      <td>3.0</td>\n",
       "    </tr>\n",
       "    <tr>\n",
       "      <th>4</th>\n",
       "      <td>-0.868974</td>\n",
       "      <td>0.0</td>\n",
       "      <td>11.0</td>\n",
       "      <td>1.0</td>\n",
       "      <td>2.0</td>\n",
       "    </tr>\n",
       "  </tbody>\n",
       "</table>\n",
       "</div>"
      ],
      "text/plain": [
       "      Color  HasName  Month  Day  Hour\n",
       "0  0.973624      1.0    2.0  1.0   3.0\n",
       "1 -1.421532      1.0   10.0  1.0   2.0\n",
       "2  0.973624      1.0    1.0  3.0   2.0\n",
       "3 -1.471381      0.0    7.0  1.0   3.0\n",
       "4 -0.868974      0.0   11.0  1.0   2.0"
      ]
     },
     "execution_count": 15,
     "metadata": {},
     "output_type": "execute_result"
    }
   ],
   "source": [
    "X_train1.head()"
   ]
  },
  {
   "cell_type": "markdown",
   "metadata": {},
   "source": [
    "The dataset part you have to process is:"
   ]
  },
  {
   "cell_type": "code",
   "execution_count": 16,
   "metadata": {},
   "outputs": [],
   "source": [
    "X_train = X_train.drop(columns = [\"Color\",\"Name\",\"DateTime\"])\n",
    "X_test = X_test.drop(columns = [\"Color\",\"Name\",\"DateTime\"])"
   ]
  },
  {
   "cell_type": "code",
   "execution_count": 17,
   "metadata": {},
   "outputs": [
    {
     "data": {
      "text/html": [
       "<div>\n",
       "<style scoped>\n",
       "    .dataframe tbody tr th:only-of-type {\n",
       "        vertical-align: middle;\n",
       "    }\n",
       "\n",
       "    .dataframe tbody tr th {\n",
       "        vertical-align: top;\n",
       "    }\n",
       "\n",
       "    .dataframe thead th {\n",
       "        text-align: right;\n",
       "    }\n",
       "</style>\n",
       "<table border=\"1\" class=\"dataframe\">\n",
       "  <thead>\n",
       "    <tr style=\"text-align: right;\">\n",
       "      <th></th>\n",
       "      <th>AnimalType</th>\n",
       "      <th>SexuponOutcome</th>\n",
       "      <th>AgeuponOutcome</th>\n",
       "      <th>Breed</th>\n",
       "    </tr>\n",
       "  </thead>\n",
       "  <tbody>\n",
       "    <tr>\n",
       "      <th>0</th>\n",
       "      <td>Dog</td>\n",
       "      <td>Neutered Male</td>\n",
       "      <td>1 year</td>\n",
       "      <td>Shetland Sheepdog Mix</td>\n",
       "    </tr>\n",
       "    <tr>\n",
       "      <th>1</th>\n",
       "      <td>Cat</td>\n",
       "      <td>Spayed Female</td>\n",
       "      <td>1 year</td>\n",
       "      <td>Domestic Shorthair Mix</td>\n",
       "    </tr>\n",
       "    <tr>\n",
       "      <th>2</th>\n",
       "      <td>Dog</td>\n",
       "      <td>Neutered Male</td>\n",
       "      <td>2 years</td>\n",
       "      <td>Pit Bull Mix</td>\n",
       "    </tr>\n",
       "    <tr>\n",
       "      <th>3</th>\n",
       "      <td>Cat</td>\n",
       "      <td>Intact Male</td>\n",
       "      <td>3 weeks</td>\n",
       "      <td>Domestic Shorthair Mix</td>\n",
       "    </tr>\n",
       "    <tr>\n",
       "      <th>4</th>\n",
       "      <td>Dog</td>\n",
       "      <td>Neutered Male</td>\n",
       "      <td>2 years</td>\n",
       "      <td>Lhasa Apso/Miniature Poodle</td>\n",
       "    </tr>\n",
       "  </tbody>\n",
       "</table>\n",
       "</div>"
      ],
      "text/plain": [
       "  AnimalType SexuponOutcome AgeuponOutcome                        Breed\n",
       "0        Dog  Neutered Male         1 year        Shetland Sheepdog Mix\n",
       "1        Cat  Spayed Female         1 year       Domestic Shorthair Mix\n",
       "2        Dog  Neutered Male        2 years                 Pit Bull Mix\n",
       "3        Cat    Intact Male        3 weeks       Domestic Shorthair Mix\n",
       "4        Dog  Neutered Male        2 years  Lhasa Apso/Miniature Poodle"
      ]
     },
     "execution_count": 17,
     "metadata": {},
     "output_type": "execute_result"
    }
   ],
   "source": [
    "X_train.head()"
   ]
  },
  {
   "cell_type": "markdown",
   "metadata": {},
   "source": [
    "####  Question 11: AgeuponOutcome (1 point)\n",
    "\n",
    "Pour la colonne Age Upon Outcome, nous avons décidé de transformer toutes les données sur une même base, soit en semaine. Ce choix a été fais aléatoirement, on aurait pu les mettre en jours, en mois ou en année. Ce qu'il faut comprendre c'est qu'il y a 52.1428228589286 semaines par an et 4.34524 semaines par mois. Une fois les données convertit sur une même base, nous les normalisons à l'aide du StandardScaler. Comme indiqué dans le tutoriel de ce TP, la normalisation est nécessaire pour les données de cette colonne sur une même échelle pour que cette colonne n'impacte pas les autres colonnes lors de l'apprentissage."
   ]
  },
  {
   "cell_type": "code",
   "execution_count": 18,
   "metadata": {},
   "outputs": [],
   "source": [
    "import numpy as np\n",
    "import pandas as pd\n",
    "import math\n",
    "from sklearn.impute import SimpleImputer\n",
    "from sklearn.pipeline import Pipeline#, FeatureUnion\n",
    "from sklearn.compose import ColumnTransformer\n",
    "from sklearn.preprocessing import StandardScaler\n",
    "from preprocessing import TransformationWrapper\n",
    "from sklearn.preprocessing import OneHotEncoder\n",
    "from sklearn.preprocessing import LabelEncoder\n",
    "\n",
    "def convertAgeUponOutcomeToWeeks(text):\n",
    "    if (not isinstance(text, str)) and math.isnan(text):\n",
    "       return 0.0\n",
    "    else:\n",
    "        number, timeFrame = text.split(\" \")\n",
    "        if timeFrame.lower() == \"year\" or timeFrame.lower() == \"years\":\n",
    "            return float(number) * 52.1428228589286 #52 weeks per year\n",
    "        elif timeFrame.lower() == \"month\" or timeFrame.lower() == \"months\":\n",
    "            return float(number) * 4.34524 #4 weeks per month\n",
    "        elif timeFrame.lower() == \"week\" or timeFrame.lower() == \"weeks\":\n",
    "            return float(number) # 1 week per week\n",
    "        elif timeFrame.lower() == \"day\" or timeFrame.lower() == \"days\":\n",
    "            return float(number) * 1.0/7.0 #because there are 7 days per week"
   ]
  },
  {
   "cell_type": "markdown",
   "metadata": {},
   "source": [
    "#### Question 12: AnimalType (1 point)\n",
    "\n",
    "Pour cette colonne, nous avons remarqué qu'il y avait que deux valeurs dans cette colonne, soit \"Dog\" ou \"Cat\". Ainsi, nous avons choisi de représenter ces données sous forme binaires. La valeur \"Dog\" sera représenté par la valeur \"0\". La valeur \"1\" pour \"Cat\". Ce choix a été fait arbitrairement."
   ]
  },
  {
   "cell_type": "code",
   "execution_count": 19,
   "metadata": {},
   "outputs": [],
   "source": [
    "def convertAnimalType(text):\n",
    "    if text == 'Dog':\n",
    "        return 0\n",
    "    else:\n",
    "        return 1"
   ]
  },
  {
   "cell_type": "markdown",
   "metadata": {},
   "source": [
    "#### Question 13: SexuponOutcome (1 point)\n",
    "\n",
    "Pour la colonne SexuponOutcome, nous avons remarqué qu'il y avait cinq différentes valeurs, soit \"Neutered Male\", \"Spayed Female\", \"Intact Male\", \"Intact Female\" et \"Unknown\". Ainsi, ces valeurs ont été respectivement changé par 0, 1, 2, 3, et 4. Évidemment, comme cette colonne est catégorique, il est nécessaire d'appliquer l'encodage \"One Hot Encoding\", pour éviter que certains algorithmes d'apprentissage prennent en compte l'ordre numérique des catégories, tel qu'expliqué dans le tutoriel."
   ]
  },
  {
   "cell_type": "code",
   "execution_count": 20,
   "metadata": {},
   "outputs": [],
   "source": [
    "def convertSexUponOutcome(text):\n",
    "    if text == \"Neutered Male\":\n",
    "        return 0\n",
    "    elif text == \"Spayed Female\":\n",
    "        return 1\n",
    "    elif text == \"Intact Male\":\n",
    "        return 2\n",
    "    elif text == \"Intact Female\":\n",
    "        return 3\n",
    "    else:\n",
    "        return 4"
   ]
  },
  {
   "cell_type": "markdown",
   "metadata": {},
   "source": [
    "#### Question 14: Breed (1 point)\n",
    "\n",
    "Pour Breed, nous avons remarqué qu'il existait plus de 1300 valeurs différentes. Il n'est donc pas judicieux de représenter ces 1300 valeurs sous forme de 1300 catégorie différentes comme nous l'avons fait pour la colonne \"SexUponOutcome\" à la question précédente. La matrice résultant serait beaucoup trop grande. Ainsi, nous avons accepter de perdre de l'information sur cette colonne en extrayant uniquement le fait qu'un animal soit un hybride entre deux animal ou non (un mix ou non). Au moins, nous aurons extrait de l'information de cette colonne plutôt que de l'ignorer complètement. Ainsi, pour déterminer si l'animal est un mix ou non, nous avons vérifié si l'entrée dans cette colonne contenait le mot \"mix\" ou si elle contenait un séparateur \"/\". Si l'animal est un mix, alors on mettra la valeur \"1\" à la ligne correspondante. Sinon, on mettre un \"0\"."
   ]
  },
  {
   "cell_type": "code",
   "execution_count": 21,
   "metadata": {},
   "outputs": [],
   "source": [
    "def convertBreed(text):\n",
    "    text = text.lower()\n",
    "    if \"mix\" in text or \"/\" in text:\n",
    "        return 1\n",
    "    else:\n",
    "        return 0"
   ]
  },
  {
   "cell_type": "markdown",
   "metadata": {},
   "source": [
    "### Pipeline\n",
    "**Question 15: Fill the pipeline below (4 points)**"
   ]
  },
  {
   "cell_type": "code",
   "execution_count": 22,
   "metadata": {},
   "outputs": [],
   "source": [
    "from preprocessing import TransformationWrapper\n",
    "from preprocessing import LabelEncoderP\n",
    "from sklearn.pipeline import Pipeline, FeatureUnion\n",
    "from sklearn.compose import ColumnTransformer\n",
    "\n",
    "pipeline_ageuponoutcome_changeToWeeks = Pipeline(\n",
    "    [\n",
    "        ('ConvertAgeUponOutcomeToWeeks', TransformationWrapper(transformation=convertAgeUponOutcomeToWeeks)),\n",
    "        ('Normalization', StandardScaler())\n",
    "])\n",
    "\n",
    "pipeline_AnimalType_ChangeAnimalType = Pipeline(\n",
    "    [\n",
    "       ('ConvertAnimalType', TransformationWrapper(transformation=convertAnimalType))\n",
    "    ]\n",
    ")\n",
    "\n",
    "pipeline_SexuponOutcome_ChangeSexUponOutcome = Pipeline(\n",
    "    [\n",
    "        ('ConvertSexUponOutcome', TransformationWrapper(transformation=convertSexUponOutcome)),\n",
    "        ('OneHotEncoding', OneHotEncoder(categories='auto', sparse=False))\n",
    "    ]\n",
    ")\n",
    "\n",
    "pipeline_changeBreed = Pipeline(\n",
    "    [\n",
    "        ('ChangeBreed', TransformationWrapper(transformation=convertBreed))\n",
    "    ]\n",
    ")\n",
    "\n",
    "\n",
    "full_pipeline = ColumnTransformer(\n",
    "    [\n",
    "        (\"AgeuponOutcome\", pipeline_ageuponoutcome_changeToWeeks, \"AgeuponOutcome\"),\n",
    "        (\"AnimalType\", pipeline_AnimalType_ChangeAnimalType, \"AnimalType\"),\n",
    "        (\"SexuponOutcome\", pipeline_SexuponOutcome_ChangeSexUponOutcome, \"SexuponOutcome\"),\n",
    "        ('breed', pipeline_changeBreed, \"Breed\")\n",
    "    ], remainder='passthrough'\n",
    ")"
   ]
  },
  {
   "cell_type": "markdown",
   "metadata": {},
   "source": [
    "Run the pipeline"
   ]
  },
  {
   "cell_type": "code",
   "execution_count": 23,
   "metadata": {},
   "outputs": [
    {
     "data": {
      "text/html": [
       "<div>\n",
       "<style scoped>\n",
       "    .dataframe tbody tr th:only-of-type {\n",
       "        vertical-align: middle;\n",
       "    }\n",
       "\n",
       "    .dataframe tbody tr th {\n",
       "        vertical-align: top;\n",
       "    }\n",
       "\n",
       "    .dataframe thead th {\n",
       "        text-align: right;\n",
       "    }\n",
       "</style>\n",
       "<table border=\"1\" class=\"dataframe\">\n",
       "  <thead>\n",
       "    <tr style=\"text-align: right;\">\n",
       "      <th></th>\n",
       "      <th>AgeuponOutcome</th>\n",
       "      <th>AnimalType</th>\n",
       "      <th>Neutered Male</th>\n",
       "      <th>Spayed Female</th>\n",
       "      <th>Intact Male</th>\n",
       "      <th>Intact Female</th>\n",
       "      <th>Unknown</th>\n",
       "      <th>Mix</th>\n",
       "    </tr>\n",
       "  </thead>\n",
       "  <tbody>\n",
       "    <tr>\n",
       "      <th>0</th>\n",
       "      <td>-0.396515</td>\n",
       "      <td>0.0</td>\n",
       "      <td>1.0</td>\n",
       "      <td>0.0</td>\n",
       "      <td>0.0</td>\n",
       "      <td>0.0</td>\n",
       "      <td>0.0</td>\n",
       "      <td>1.0</td>\n",
       "    </tr>\n",
       "    <tr>\n",
       "      <th>1</th>\n",
       "      <td>-0.396515</td>\n",
       "      <td>1.0</td>\n",
       "      <td>0.0</td>\n",
       "      <td>1.0</td>\n",
       "      <td>0.0</td>\n",
       "      <td>0.0</td>\n",
       "      <td>0.0</td>\n",
       "      <td>1.0</td>\n",
       "    </tr>\n",
       "    <tr>\n",
       "      <th>2</th>\n",
       "      <td>-0.059276</td>\n",
       "      <td>0.0</td>\n",
       "      <td>1.0</td>\n",
       "      <td>0.0</td>\n",
       "      <td>0.0</td>\n",
       "      <td>0.0</td>\n",
       "      <td>0.0</td>\n",
       "      <td>1.0</td>\n",
       "    </tr>\n",
       "    <tr>\n",
       "      <th>3</th>\n",
       "      <td>-0.714351</td>\n",
       "      <td>1.0</td>\n",
       "      <td>0.0</td>\n",
       "      <td>0.0</td>\n",
       "      <td>1.0</td>\n",
       "      <td>0.0</td>\n",
       "      <td>0.0</td>\n",
       "      <td>1.0</td>\n",
       "    </tr>\n",
       "    <tr>\n",
       "      <th>4</th>\n",
       "      <td>-0.059276</td>\n",
       "      <td>0.0</td>\n",
       "      <td>1.0</td>\n",
       "      <td>0.0</td>\n",
       "      <td>0.0</td>\n",
       "      <td>0.0</td>\n",
       "      <td>0.0</td>\n",
       "      <td>1.0</td>\n",
       "    </tr>\n",
       "  </tbody>\n",
       "</table>\n",
       "</div>"
      ],
      "text/plain": [
       "   AgeuponOutcome  AnimalType  Neutered Male  Spayed Female  Intact Male  \\\n",
       "0       -0.396515         0.0            1.0            0.0          0.0   \n",
       "1       -0.396515         1.0            0.0            1.0          0.0   \n",
       "2       -0.059276         0.0            1.0            0.0          0.0   \n",
       "3       -0.714351         1.0            0.0            0.0          1.0   \n",
       "4       -0.059276         0.0            1.0            0.0          0.0   \n",
       "\n",
       "   Intact Female  Unknown  Mix  \n",
       "0            0.0      0.0  1.0  \n",
       "1            0.0      0.0  1.0  \n",
       "2            0.0      0.0  1.0  \n",
       "3            0.0      0.0  1.0  \n",
       "4            0.0      0.0  1.0  "
      ]
     },
     "execution_count": 23,
     "metadata": {},
     "output_type": "execute_result"
    }
   ],
   "source": [
    "columns = [\"AgeuponOutcome\", \"AnimalType\", \"Neutered Male\", \"Spayed Female\", \"Intact Male\", \"Intact Female\", \"Unknown\", \"Mix\"]\n",
    "X_train_prepared = pd.DataFrame(full_pipeline.fit_transform(X_train),columns = columns)\n",
    "X_test_prepared = pd.DataFrame(full_pipeline.fit_transform(X_test),columns = columns)\n",
    "X_train_prepared.head()\n"
   ]
  },
  {
   "cell_type": "code",
   "execution_count": 24,
   "metadata": {},
   "outputs": [
    {
     "data": {
      "text/html": [
       "<div>\n",
       "<style scoped>\n",
       "    .dataframe tbody tr th:only-of-type {\n",
       "        vertical-align: middle;\n",
       "    }\n",
       "\n",
       "    .dataframe tbody tr th {\n",
       "        vertical-align: top;\n",
       "    }\n",
       "\n",
       "    .dataframe thead th {\n",
       "        text-align: right;\n",
       "    }\n",
       "</style>\n",
       "<table border=\"1\" class=\"dataframe\">\n",
       "  <thead>\n",
       "    <tr style=\"text-align: right;\">\n",
       "      <th></th>\n",
       "      <th>AgeuponOutcome</th>\n",
       "      <th>AnimalType</th>\n",
       "      <th>Neutered Male</th>\n",
       "      <th>Spayed Female</th>\n",
       "      <th>Intact Male</th>\n",
       "      <th>Intact Female</th>\n",
       "      <th>Unknown</th>\n",
       "      <th>Mix</th>\n",
       "    </tr>\n",
       "  </thead>\n",
       "  <tbody>\n",
       "    <tr>\n",
       "      <th>0</th>\n",
       "      <td>-0.439590</td>\n",
       "      <td>0.0</td>\n",
       "      <td>0.0</td>\n",
       "      <td>0.0</td>\n",
       "      <td>0.0</td>\n",
       "      <td>1.0</td>\n",
       "      <td>0.0</td>\n",
       "      <td>1.0</td>\n",
       "    </tr>\n",
       "    <tr>\n",
       "      <th>1</th>\n",
       "      <td>-0.042708</td>\n",
       "      <td>0.0</td>\n",
       "      <td>0.0</td>\n",
       "      <td>1.0</td>\n",
       "      <td>0.0</td>\n",
       "      <td>0.0</td>\n",
       "      <td>0.0</td>\n",
       "      <td>1.0</td>\n",
       "    </tr>\n",
       "    <tr>\n",
       "      <th>2</th>\n",
       "      <td>-0.382893</td>\n",
       "      <td>1.0</td>\n",
       "      <td>1.0</td>\n",
       "      <td>0.0</td>\n",
       "      <td>0.0</td>\n",
       "      <td>0.0</td>\n",
       "      <td>0.0</td>\n",
       "      <td>1.0</td>\n",
       "    </tr>\n",
       "    <tr>\n",
       "      <th>3</th>\n",
       "      <td>-0.609683</td>\n",
       "      <td>0.0</td>\n",
       "      <td>0.0</td>\n",
       "      <td>0.0</td>\n",
       "      <td>1.0</td>\n",
       "      <td>0.0</td>\n",
       "      <td>0.0</td>\n",
       "      <td>1.0</td>\n",
       "    </tr>\n",
       "    <tr>\n",
       "      <th>4</th>\n",
       "      <td>-0.042708</td>\n",
       "      <td>0.0</td>\n",
       "      <td>1.0</td>\n",
       "      <td>0.0</td>\n",
       "      <td>0.0</td>\n",
       "      <td>0.0</td>\n",
       "      <td>0.0</td>\n",
       "      <td>1.0</td>\n",
       "    </tr>\n",
       "  </tbody>\n",
       "</table>\n",
       "</div>"
      ],
      "text/plain": [
       "   AgeuponOutcome  AnimalType  Neutered Male  Spayed Female  Intact Male  \\\n",
       "0       -0.439590         0.0            0.0            0.0          0.0   \n",
       "1       -0.042708         0.0            0.0            1.0          0.0   \n",
       "2       -0.382893         1.0            1.0            0.0          0.0   \n",
       "3       -0.609683         0.0            0.0            0.0          1.0   \n",
       "4       -0.042708         0.0            1.0            0.0          0.0   \n",
       "\n",
       "   Intact Female  Unknown  Mix  \n",
       "0            1.0      0.0  1.0  \n",
       "1            0.0      0.0  1.0  \n",
       "2            0.0      0.0  1.0  \n",
       "3            0.0      0.0  1.0  \n",
       "4            0.0      0.0  1.0  "
      ]
     },
     "execution_count": 24,
     "metadata": {},
     "output_type": "execute_result"
    }
   ],
   "source": [
    "X_test_prepared.head()"
   ]
  },
  {
   "cell_type": "markdown",
   "metadata": {},
   "source": [
    "#### Concatenate both part of the dataset:"
   ]
  },
  {
   "cell_type": "code",
   "execution_count": 25,
   "metadata": {},
   "outputs": [
    {
     "data": {
      "text/html": [
       "<div>\n",
       "<style scoped>\n",
       "    .dataframe tbody tr th:only-of-type {\n",
       "        vertical-align: middle;\n",
       "    }\n",
       "\n",
       "    .dataframe tbody tr th {\n",
       "        vertical-align: top;\n",
       "    }\n",
       "\n",
       "    .dataframe thead th {\n",
       "        text-align: right;\n",
       "    }\n",
       "</style>\n",
       "<table border=\"1\" class=\"dataframe\">\n",
       "  <thead>\n",
       "    <tr style=\"text-align: right;\">\n",
       "      <th></th>\n",
       "      <th>Color</th>\n",
       "      <th>HasName</th>\n",
       "      <th>Month</th>\n",
       "      <th>Day</th>\n",
       "      <th>Hour</th>\n",
       "      <th>AgeuponOutcome</th>\n",
       "      <th>AnimalType</th>\n",
       "      <th>Neutered Male</th>\n",
       "      <th>Spayed Female</th>\n",
       "      <th>Intact Male</th>\n",
       "      <th>Intact Female</th>\n",
       "      <th>Unknown</th>\n",
       "      <th>Mix</th>\n",
       "    </tr>\n",
       "  </thead>\n",
       "  <tbody>\n",
       "    <tr>\n",
       "      <th>0</th>\n",
       "      <td>0.973624</td>\n",
       "      <td>1.0</td>\n",
       "      <td>2.0</td>\n",
       "      <td>1.0</td>\n",
       "      <td>3.0</td>\n",
       "      <td>-0.396515</td>\n",
       "      <td>0.0</td>\n",
       "      <td>1.0</td>\n",
       "      <td>0.0</td>\n",
       "      <td>0.0</td>\n",
       "      <td>0.0</td>\n",
       "      <td>0.0</td>\n",
       "      <td>1.0</td>\n",
       "    </tr>\n",
       "    <tr>\n",
       "      <th>1</th>\n",
       "      <td>-1.421532</td>\n",
       "      <td>1.0</td>\n",
       "      <td>10.0</td>\n",
       "      <td>1.0</td>\n",
       "      <td>2.0</td>\n",
       "      <td>-0.396515</td>\n",
       "      <td>1.0</td>\n",
       "      <td>0.0</td>\n",
       "      <td>1.0</td>\n",
       "      <td>0.0</td>\n",
       "      <td>0.0</td>\n",
       "      <td>0.0</td>\n",
       "      <td>1.0</td>\n",
       "    </tr>\n",
       "    <tr>\n",
       "      <th>2</th>\n",
       "      <td>0.973624</td>\n",
       "      <td>1.0</td>\n",
       "      <td>1.0</td>\n",
       "      <td>3.0</td>\n",
       "      <td>2.0</td>\n",
       "      <td>-0.059276</td>\n",
       "      <td>0.0</td>\n",
       "      <td>1.0</td>\n",
       "      <td>0.0</td>\n",
       "      <td>0.0</td>\n",
       "      <td>0.0</td>\n",
       "      <td>0.0</td>\n",
       "      <td>1.0</td>\n",
       "    </tr>\n",
       "    <tr>\n",
       "      <th>3</th>\n",
       "      <td>-1.471381</td>\n",
       "      <td>0.0</td>\n",
       "      <td>7.0</td>\n",
       "      <td>1.0</td>\n",
       "      <td>3.0</td>\n",
       "      <td>-0.714351</td>\n",
       "      <td>1.0</td>\n",
       "      <td>0.0</td>\n",
       "      <td>0.0</td>\n",
       "      <td>1.0</td>\n",
       "      <td>0.0</td>\n",
       "      <td>0.0</td>\n",
       "      <td>1.0</td>\n",
       "    </tr>\n",
       "    <tr>\n",
       "      <th>4</th>\n",
       "      <td>-0.868974</td>\n",
       "      <td>0.0</td>\n",
       "      <td>11.0</td>\n",
       "      <td>1.0</td>\n",
       "      <td>2.0</td>\n",
       "      <td>-0.059276</td>\n",
       "      <td>0.0</td>\n",
       "      <td>1.0</td>\n",
       "      <td>0.0</td>\n",
       "      <td>0.0</td>\n",
       "      <td>0.0</td>\n",
       "      <td>0.0</td>\n",
       "      <td>1.0</td>\n",
       "    </tr>\n",
       "  </tbody>\n",
       "</table>\n",
       "</div>"
      ],
      "text/plain": [
       "      Color  HasName  Month  Day  Hour  AgeuponOutcome  AnimalType  \\\n",
       "0  0.973624      1.0    2.0  1.0   3.0       -0.396515         0.0   \n",
       "1 -1.421532      1.0   10.0  1.0   2.0       -0.396515         1.0   \n",
       "2  0.973624      1.0    1.0  3.0   2.0       -0.059276         0.0   \n",
       "3 -1.471381      0.0    7.0  1.0   3.0       -0.714351         1.0   \n",
       "4 -0.868974      0.0   11.0  1.0   2.0       -0.059276         0.0   \n",
       "\n",
       "   Neutered Male  Spayed Female  Intact Male  Intact Female  Unknown  Mix  \n",
       "0            1.0            0.0          0.0            0.0      0.0  1.0  \n",
       "1            0.0            1.0          0.0            0.0      0.0  1.0  \n",
       "2            1.0            0.0          0.0            0.0      0.0  1.0  \n",
       "3            0.0            0.0          1.0            0.0      0.0  1.0  \n",
       "4            1.0            0.0          0.0            0.0      0.0  1.0  "
      ]
     },
     "execution_count": 25,
     "metadata": {},
     "output_type": "execute_result"
    }
   ],
   "source": [
    "X_train = pd.concat([X_train1,X_train_prepared], axis = 1)\n",
    "X_test = pd.concat([X_test1,X_test_prepared], axis = 1)\n",
    "X_train.head()\n"
   ]
  },
  {
   "cell_type": "code",
   "execution_count": 26,
   "metadata": {},
   "outputs": [
    {
     "data": {
      "text/html": [
       "<div>\n",
       "<style scoped>\n",
       "    .dataframe tbody tr th:only-of-type {\n",
       "        vertical-align: middle;\n",
       "    }\n",
       "\n",
       "    .dataframe tbody tr th {\n",
       "        vertical-align: top;\n",
       "    }\n",
       "\n",
       "    .dataframe thead th {\n",
       "        text-align: right;\n",
       "    }\n",
       "</style>\n",
       "<table border=\"1\" class=\"dataframe\">\n",
       "  <thead>\n",
       "    <tr style=\"text-align: right;\">\n",
       "      <th></th>\n",
       "      <th>Color</th>\n",
       "      <th>HasName</th>\n",
       "      <th>Month</th>\n",
       "      <th>Day</th>\n",
       "      <th>Hour</th>\n",
       "      <th>AgeuponOutcome</th>\n",
       "      <th>AnimalType</th>\n",
       "      <th>Neutered Male</th>\n",
       "      <th>Spayed Female</th>\n",
       "      <th>Intact Male</th>\n",
       "      <th>Intact Female</th>\n",
       "      <th>Unknown</th>\n",
       "      <th>Mix</th>\n",
       "    </tr>\n",
       "  </thead>\n",
       "  <tbody>\n",
       "    <tr>\n",
       "      <th>0</th>\n",
       "      <td>0.973624</td>\n",
       "      <td>1.0</td>\n",
       "      <td>10.0</td>\n",
       "      <td>1.0</td>\n",
       "      <td>2.0</td>\n",
       "      <td>-0.439590</td>\n",
       "      <td>0.0</td>\n",
       "      <td>0.0</td>\n",
       "      <td>0.0</td>\n",
       "      <td>0.0</td>\n",
       "      <td>1.0</td>\n",
       "      <td>0.0</td>\n",
       "      <td>1.0</td>\n",
       "    </tr>\n",
       "    <tr>\n",
       "      <th>1</th>\n",
       "      <td>0.086797</td>\n",
       "      <td>1.0</td>\n",
       "      <td>7.0</td>\n",
       "      <td>3.0</td>\n",
       "      <td>2.0</td>\n",
       "      <td>-0.042708</td>\n",
       "      <td>0.0</td>\n",
       "      <td>0.0</td>\n",
       "      <td>1.0</td>\n",
       "      <td>0.0</td>\n",
       "      <td>0.0</td>\n",
       "      <td>0.0</td>\n",
       "      <td>1.0</td>\n",
       "    </tr>\n",
       "    <tr>\n",
       "      <th>2</th>\n",
       "      <td>-0.936310</td>\n",
       "      <td>1.0</td>\n",
       "      <td>1.0</td>\n",
       "      <td>1.0</td>\n",
       "      <td>2.0</td>\n",
       "      <td>-0.382893</td>\n",
       "      <td>1.0</td>\n",
       "      <td>1.0</td>\n",
       "      <td>0.0</td>\n",
       "      <td>0.0</td>\n",
       "      <td>0.0</td>\n",
       "      <td>0.0</td>\n",
       "      <td>1.0</td>\n",
       "    </tr>\n",
       "    <tr>\n",
       "      <th>3</th>\n",
       "      <td>-1.294900</td>\n",
       "      <td>1.0</td>\n",
       "      <td>12.0</td>\n",
       "      <td>3.0</td>\n",
       "      <td>3.0</td>\n",
       "      <td>-0.609683</td>\n",
       "      <td>0.0</td>\n",
       "      <td>0.0</td>\n",
       "      <td>0.0</td>\n",
       "      <td>1.0</td>\n",
       "      <td>0.0</td>\n",
       "      <td>0.0</td>\n",
       "      <td>1.0</td>\n",
       "    </tr>\n",
       "    <tr>\n",
       "      <th>4</th>\n",
       "      <td>0.973624</td>\n",
       "      <td>1.0</td>\n",
       "      <td>9.0</td>\n",
       "      <td>3.0</td>\n",
       "      <td>2.0</td>\n",
       "      <td>-0.042708</td>\n",
       "      <td>0.0</td>\n",
       "      <td>1.0</td>\n",
       "      <td>0.0</td>\n",
       "      <td>0.0</td>\n",
       "      <td>0.0</td>\n",
       "      <td>0.0</td>\n",
       "      <td>1.0</td>\n",
       "    </tr>\n",
       "  </tbody>\n",
       "</table>\n",
       "</div>"
      ],
      "text/plain": [
       "      Color  HasName  Month  Day  Hour  AgeuponOutcome  AnimalType  \\\n",
       "0  0.973624      1.0   10.0  1.0   2.0       -0.439590         0.0   \n",
       "1  0.086797      1.0    7.0  3.0   2.0       -0.042708         0.0   \n",
       "2 -0.936310      1.0    1.0  1.0   2.0       -0.382893         1.0   \n",
       "3 -1.294900      1.0   12.0  3.0   3.0       -0.609683         0.0   \n",
       "4  0.973624      1.0    9.0  3.0   2.0       -0.042708         0.0   \n",
       "\n",
       "   Neutered Male  Spayed Female  Intact Male  Intact Female  Unknown  Mix  \n",
       "0            0.0            0.0          0.0            1.0      0.0  1.0  \n",
       "1            0.0            1.0          0.0            0.0      0.0  1.0  \n",
       "2            1.0            0.0          0.0            0.0      0.0  1.0  \n",
       "3            0.0            0.0          1.0            0.0      0.0  1.0  \n",
       "4            1.0            0.0          0.0            0.0      0.0  1.0  "
      ]
     },
     "execution_count": 26,
     "metadata": {},
     "output_type": "execute_result"
    }
   ],
   "source": [
    "X_test.head()"
   ]
  },
  {
   "cell_type": "markdown",
   "metadata": {},
   "source": [
    "# 3. Model selection (2 points)"
   ]
  },
  {
   "cell_type": "markdown",
   "metadata": {},
   "source": [
    "Encode the target class as integers to use it\n",
    "with scikit-learn algorithms"
   ]
  },
  {
   "cell_type": "code",
   "execution_count": 27,
   "metadata": {},
   "outputs": [
    {
     "name": "stdout",
     "output_type": "stream",
     "text": [
      "['Adoption' 'Died' 'Euthanasia' 'Return_to_owner' 'Transfer']\n"
     ]
    }
   ],
   "source": [
    "from sklearn.preprocessing import LabelEncoder\n",
    "target_label = LabelEncoder()\n",
    "y_train_label = target_label.fit_transform(y_train)\n",
    "print(target_label.classes_)"
   ]
  },
  {
   "cell_type": "markdown",
   "metadata": {},
   "source": [
    "## Validation set\n",
    "\n",
    "To compare different models with each other, we can not use the test set, otherwise one would be tempted to keep the model corresponding best to the test set which could lead to overfitting.\n",
    "\n",
    "It is common to create a new set of the size of the test set, the  **validation** set.\n"
   ]
  },
  {
   "cell_type": "markdown",
   "metadata": {},
   "source": [
    "## Cross-validation\n",
    "\n",
    "Cross-validation is a useful method for comparing the performance of different machine learning models **without creating a validation set**.\n",
    "\n",
    "There are different types of cross-validation, the most classic procedure is:\n",
    "* Randomly divide the training set into two parts (90% / 10% for example).\n",
    "* Train the model on biggest part, and test it on the other part.\n",
    "* Repeat n times\n",
    "* Calculate the mean and standard deviation of the results\n",
    "\n",
    "The benefits are:\n",
    "* Consider the entire training set for the evaluation (without ignoring the data we would have use in the validation set)\n",
    "* Obtaining the standard deviation of the results allows a better evaluation of the model's accuracy.\n",
    "\n",
    "The main disadvantage is the computation time, since one carries out the learning of the model several times, this method can be impossible for datasets containing a large number of example (> 10e5)\n",
    "\n"
   ]
  },
  {
   "cell_type": "markdown",
   "metadata": {},
   "source": [
    "## Bonus 2: StratifiedKFold (1 point)\n",
    "\n",
    "By observing the class distribution of the target attribute (using the pandas visualization functions), justify the use of the sklearn **StratifiedKFold** object for division of the training set when doing cross-validation instead of a pure **random** method."
   ]
  },
  {
   "cell_type": "markdown",
   "metadata": {},
   "source": [
    "Based on what we've seen on the following four charts. The first two charts are built in the case of stratify. It could be observed that the proportion of each class in the training set is exactly the same as the validation set. On the other hand, the last two charts are built in the case of random method. We can see a difference on class proportions. For instance the proportion of the first class in the validation set is apparently larger than in the training set.  \n",
    "StratifiedKFold is used in order to ensure that the training and validation datasets each contain the same percentage of classes. This is very important because essentially we want to verify a model on a validation set that is able to represent the training set well. Otherwise, the validation would not be credential. Therefore, we should respect the proportion of each class in the validation set, which is apparently better than a random-sampling way in the sense of well-representation."
   ]
  },
  {
   "cell_type": "code",
   "execution_count": 28,
   "metadata": {},
   "outputs": [
    {
     "data": {
      "image/png": "[encoded data removed]",
      "text/plain": [
       "<Figure size 360x360 with 1 Axes>"
      ]
     },
     "metadata": {},
     "output_type": "display_data"
    },
    {
     "data": {
      "image/png": "[encoded data removed]",
      "text/plain": [
       "<Figure size 360x360 with 1 Axes>"
      ]
     },
     "metadata": {},
     "output_type": "display_data"
    },
    {
     "data": {
      "image/png": "[encoded data removed]",
      "text/plain": [
       "<Figure size 360x360 with 1 Axes>"
      ]
     },
     "metadata": {},
     "output_type": "display_data"
    },
    {
     "data": {
      "image/png": "[encoded data removed]",
      "text/plain": [
       "<Figure size 360x360 with 1 Axes>"
      ]
     },
     "metadata": {},
     "output_type": "display_data"
    }
   ],
   "source": [
    "from sklearn.model_selection import StratifiedKFold,train_test_split\n",
    "from pandas.plotting import scatter_matrix\n",
    "import matplotlib.pyplot as plt \n",
    "X_train_split, X_test_split, y_train_split, y_test_split = train_test_split( X_train, y_train_label, test_size=0.1, random_state=42,stratify=y_train_label)\n",
    "m_train=y_train_split.shape[0]\n",
    "m_test=y_test_split.shape[0]\n",
    "pd.DataFrame(y_train_split).hist(figsize=(5,5),weights=np.ones(m_train) / m_train)\n",
    "plt.title(\"Training set by Stratify \")\n",
    "pd.DataFrame(y_test_split).hist(figsize=(5,5),weights=np.ones(m_test)/m_test)\n",
    "plt.title(\"Validation set by Stratify \")\n",
    "X_train_split, X_test_split, y_train_split, y_test_split = train_test_split( X_train, y_train_label, test_size=0.1, random_state=42,stratify=None)\n",
    "m_train=y_train_split.shape[0]\n",
    "m_test=y_test_split.shape[0]\n",
    "pd.DataFrame(y_train_split).hist(figsize=(5,5),weights=np.ones(m_train) / m_train)\n",
    "plt.title(\"Training set by Random \")\n",
    "pd.DataFrame(y_test_split).hist(figsize=(5,5),weights=np.ones(m_test)/m_test)\n",
    "plt.title(\"Validation set by Random \")\n",
    "plt.show()"
   ]
  },
  {
   "cell_type": "markdown",
   "metadata": {},
   "source": [
    "## Question 16: (1 point)\n",
    "\n",
    "\n",
    "**Choose at least two models allowing the multiclass classification on sklearn in addition to the model implemented in the first part of the TP**.\n",
    "\n",
    "**Complete the compare function that performs the crossvalidation for different models and different metrics, and returns the list of averages and standard deviations for each of the metrics, for each of the models.**\n",
    "\n",
    "**Based on the different metrics, conclude on the best performing model.**\n",
    "\n",
    "Evaluate the models for the different metrics proposed:\n",
    "* **log loss**: this is the kaggle evaluation metric for this dataset\n",
    "* **precision**: corresponds to the quality of the prediction, the number of classes correctly predicted by the total prediction number\n",
    "* **recall**: the number of elements belonging to a class, identified as such, divided by the total number of elements of that class.\n",
    "* **f-score**: an average of accuracy and recall\n",
    "\n",
    "**Note: Precision and recall are two complementary measures for evaluating a multi-class classification model.**\n",
    "\n",
    "In the case of a binary classification with an important target class imbalance, (90% / 10%), evaluating the classification result with accuracy (number of correct predictions divided by the total number of predictions), a very good score (90% accuracy) can be obtained by choosing to systematically predict the majority class.\n",
    "\n",
    "In such a case, the precision would be high in the same way, but the recall would be very low, indicating the mediocrity of our model.\n"
   ]
  },
  {
   "cell_type": "markdown",
   "metadata": {},
   "source": []
  },
  {
   "cell_type": "code",
   "execution_count": 38,
   "metadata": {},
   "outputs": [],
   "source": [
    "def compare(models, X_train, y_train, nb_runs,scoring):\n",
    "    losses=[]\n",
    "    for m in models:\n",
    "        tmp_loss=cross_validate(m,X_train,y_train,cv=nb_runs,scoring=scoring)\n",
    "        losses.append(tmp_loss)\n",
    "    return losses"
   ]
  },
  {
   "cell_type": "code",
   "execution_count": 39,
   "metadata": {},
   "outputs": [
    {
     "name": "stderr",
     "output_type": "stream",
     "text": [
      "e:\\python\\lib\\site-packages\\sklearn\\neural_network\\multilayer_perceptron.py:916: DataConversionWarning: A column-vector y was passed when a 1d array was expected. Please change the shape of y to (n_samples, ), for example using ravel().\n",
      "  y = column_or_1d(y, warn=True)\n",
      "e:\\python\\lib\\site-packages\\sklearn\\neural_network\\multilayer_perceptron.py:562: ConvergenceWarning: Stochastic Optimizer: Maximum iterations (200) reached and the optimization hasn't converged yet.\n",
      "  % self.max_iter, ConvergenceWarning)\n",
      "e:\\python\\lib\\site-packages\\sklearn\\neural_network\\multilayer_perceptron.py:916: DataConversionWarning: A column-vector y was passed when a 1d array was expected. Please change the shape of y to (n_samples, ), for example using ravel().\n",
      "  y = column_or_1d(y, warn=True)\n",
      "e:\\python\\lib\\site-packages\\sklearn\\metrics\\classification.py:1143: UndefinedMetricWarning: Precision is ill-defined and being set to 0.0 in labels with no predicted samples.\n",
      "  'precision', 'predicted', average, warn_for)\n",
      "e:\\python\\lib\\site-packages\\sklearn\\metrics\\classification.py:1143: UndefinedMetricWarning: F-score is ill-defined and being set to 0.0 in labels with no predicted samples.\n",
      "  'precision', 'predicted', average, warn_for)\n",
      "e:\\python\\lib\\site-packages\\sklearn\\metrics\\classification.py:1143: UndefinedMetricWarning: Precision is ill-defined and being set to 0.0 in labels with no predicted samples.\n",
      "  'precision', 'predicted', average, warn_for)\n",
      "e:\\python\\lib\\site-packages\\sklearn\\metrics\\classification.py:1143: UndefinedMetricWarning: F-score is ill-defined and being set to 0.0 in labels with no predicted samples.\n",
      "  'precision', 'predicted', average, warn_for)\n",
      "e:\\python\\lib\\site-packages\\sklearn\\neural_network\\multilayer_perceptron.py:916: DataConversionWarning: A column-vector y was passed when a 1d array was expected. Please change the shape of y to (n_samples, ), for example using ravel().\n",
      "  y = column_or_1d(y, warn=True)\n",
      "e:\\python\\lib\\site-packages\\sklearn\\ensemble\\forest.py:248: FutureWarning: The default value of n_estimators will change from 10 in version 0.20 to 100 in 0.22.\n",
      "  \"10 in version 0.20 to 100 in 0.22.\", FutureWarning)\n",
      "e:\\python\\lib\\site-packages\\sklearn\\model_selection\\_validation.py:528: DataConversionWarning: A column-vector y was passed when a 1d array was expected. Please change the shape of y to (n_samples,), for example using ravel().\n",
      "  estimator.fit(X_train, y_train, **fit_params)\n",
      "e:\\python\\lib\\site-packages\\sklearn\\ensemble\\forest.py:248: FutureWarning: The default value of n_estimators will change from 10 in version 0.20 to 100 in 0.22.\n",
      "  \"10 in version 0.20 to 100 in 0.22.\", FutureWarning)\n",
      "e:\\python\\lib\\site-packages\\sklearn\\model_selection\\_validation.py:528: DataConversionWarning: A column-vector y was passed when a 1d array was expected. Please change the shape of y to (n_samples,), for example using ravel().\n",
      "  estimator.fit(X_train, y_train, **fit_params)\n",
      "e:\\python\\lib\\site-packages\\sklearn\\ensemble\\forest.py:248: FutureWarning: The default value of n_estimators will change from 10 in version 0.20 to 100 in 0.22.\n",
      "  \"10 in version 0.20 to 100 in 0.22.\", FutureWarning)\n",
      "e:\\python\\lib\\site-packages\\sklearn\\model_selection\\_validation.py:528: DataConversionWarning: A column-vector y was passed when a 1d array was expected. Please change the shape of y to (n_samples,), for example using ravel().\n",
      "  estimator.fit(X_train, y_train, **fit_params)\n",
      "e:\\python\\lib\\site-packages\\sklearn\\metrics\\classification.py:1143: UndefinedMetricWarning: Precision is ill-defined and being set to 0.0 in labels with no predicted samples.\n",
      "  'precision', 'predicted', average, warn_for)\n",
      "e:\\python\\lib\\site-packages\\sklearn\\metrics\\classification.py:1143: UndefinedMetricWarning: F-score is ill-defined and being set to 0.0 in labels with no predicted samples.\n",
      "  'precision', 'predicted', average, warn_for)\n",
      "e:\\python\\lib\\site-packages\\sklearn\\metrics\\classification.py:1143: UndefinedMetricWarning: Precision is ill-defined and being set to 0.0 in labels with no predicted samples.\n",
      "  'precision', 'predicted', average, warn_for)\n",
      "e:\\python\\lib\\site-packages\\sklearn\\metrics\\classification.py:1143: UndefinedMetricWarning: F-score is ill-defined and being set to 0.0 in labels with no predicted samples.\n",
      "  'precision', 'predicted', average, warn_for)\n",
      "e:\\python\\lib\\site-packages\\sklearn\\metrics\\classification.py:1143: UndefinedMetricWarning: Precision is ill-defined and being set to 0.0 in labels with no predicted samples.\n",
      "  'precision', 'predicted', average, warn_for)\n",
      "e:\\python\\lib\\site-packages\\sklearn\\metrics\\classification.py:1143: UndefinedMetricWarning: F-score is ill-defined and being set to 0.0 in labels with no predicted samples.\n",
      "  'precision', 'predicted', average, warn_for)\n",
      "e:\\python\\lib\\site-packages\\sklearn\\metrics\\classification.py:1143: UndefinedMetricWarning: Precision is ill-defined and being set to 0.0 in labels with no predicted samples.\n",
      "  'precision', 'predicted', average, warn_for)\n",
      "e:\\python\\lib\\site-packages\\sklearn\\metrics\\classification.py:1143: UndefinedMetricWarning: F-score is ill-defined and being set to 0.0 in labels with no predicted samples.\n",
      "  'precision', 'predicted', average, warn_for)\n"
     ]
    },
    {
     "name": "stdout",
     "output_type": "stream",
     "text": [
      "\n",
      "-------------------------\n",
      "\n",
      "The metric is test_neg_log_loss\n",
      "\n",
      "[-0.84949998 -0.85284408 -0.84163516]\n",
      "The metric is test_precision_macro\n",
      "\n",
      "[ 0.4779417   0.48996549  0.48305244]\n",
      "The metric is test_recall_macro\n",
      "\n",
      "[ 0.39690932  0.40521723  0.41888777]\n",
      "The metric is test_f1_macro\n",
      "\n",
      "[ 0.40356244  0.41093512  0.4248249 ]\n",
      "\n",
      "-------------------------\n",
      "\n",
      "The metric is test_neg_log_loss\n",
      "\n",
      "[-3.76886489 -4.03879518 -3.64085338]\n",
      "The metric is test_precision_macro\n",
      "\n",
      "[ 0.43022201  0.45799961  0.42619532]\n",
      "The metric is test_recall_macro\n",
      "\n",
      "[ 0.39783885  0.41827412  0.39584112]\n",
      "The metric is test_f1_macro\n",
      "\n",
      "[ 0.40576387  0.43107787  0.40426051]\n",
      "\n",
      "-------------------------\n",
      "\n",
      "The metric is test_neg_log_loss\n",
      "\n",
      "[-0.93864208 -0.97346392 -1.03437939]\n",
      "The metric is test_precision_macro\n",
      "\n",
      "[ 0.48939079  0.44659826  0.52138596]\n",
      "The metric is test_recall_macro\n",
      "\n",
      "[ 0.36216631  0.35705053  0.33100277]\n",
      "The metric is test_f1_macro\n",
      "\n",
      "[ 0.35766365  0.34792016  0.31972849]\n"
     ]
    },
    {
     "name": "stderr",
     "output_type": "stream",
     "text": [
      "e:\\python\\lib\\site-packages\\sklearn\\metrics\\classification.py:1143: UndefinedMetricWarning: Precision is ill-defined and being set to 0.0 in labels with no predicted samples.\n",
      "  'precision', 'predicted', average, warn_for)\n",
      "e:\\python\\lib\\site-packages\\sklearn\\metrics\\classification.py:1143: UndefinedMetricWarning: F-score is ill-defined and being set to 0.0 in labels with no predicted samples.\n",
      "  'precision', 'predicted', average, warn_for)\n",
      "e:\\python\\lib\\site-packages\\sklearn\\metrics\\classification.py:1143: UndefinedMetricWarning: Precision is ill-defined and being set to 0.0 in labels with no predicted samples.\n",
      "  'precision', 'predicted', average, warn_for)\n",
      "e:\\python\\lib\\site-packages\\sklearn\\metrics\\classification.py:1143: UndefinedMetricWarning: F-score is ill-defined and being set to 0.0 in labels with no predicted samples.\n",
      "  'precision', 'predicted', average, warn_for)\n"
     ]
    }
   ],
   "source": [
    "from SoftmaxClassifier import SoftmaxClassifier\n",
    "from sklearn.neural_network import MLPClassifier\n",
    "from sklearn.ensemble import RandomForestClassifier\n",
    "from sklearn.model_selection import cross_validate\n",
    "y_train_label=y_train_label.reshape((y_train_label.shape[0],1))\n",
    "X_train=X_train.T\n",
    "nb_run = 3\n",
    "\n",
    "models = [\n",
    "\n",
    "    MLPClassifier(),\n",
    "    RandomForestClassifier(),\n",
    "    SoftmaxClassifier()\n",
    "\n",
    "]\n",
    "scoring = ['neg_log_loss', 'precision_macro','recall_macro','f1_macro']\n",
    "losses=compare(models,X_train,y_train_label,nb_run,scoring)\n",
    "idx=['test_neg_log_loss','test_precision_macro','test_recall_macro','test_f1_macro']\n",
    "for m in losses:\n",
    "    print(\"\\n-------------------------\\n\")\n",
    "    for i in idx:\n",
    "        print (\"The metric is \"+ i+ \"\\n\")\n",
    "        print (m[i])"
   ]
  },
  {
   "cell_type": "markdown",
   "metadata": {},
   "source": [
    "1) negative log loss: Based on this measurement, MLPClassifier is the best since it has the least values.\n",
    "2) precision: The implemented SoftmaxRegression model seems to be the best even though MLPClassifier is very close.\n",
    "3) recall: MLPClassifier is the best because averagely it has the largest value, but RandomForestClassifier also works well.\n",
    "4) f1_score: MLPClassifier and RandomForestClassifier are the same good. Their f1_scores are very close to each other. \n",
    "Because of the above analysis, MLPClassifier is selected as the best model."
   ]
  },
  {
   "cell_type": "markdown",
   "metadata": {},
   "source": [
    "..."
   ]
  },
  {
   "cell_type": "markdown",
   "metadata": {},
   "source": [
    "## Question 17: Confusion matrix (0.5 point)\n",
    "\n",
    "The confusion matrix A is such that $A_{i,j}$ represents the number of examples of class i classified as belonging to class j.\n",
    "\n",
    "Train the selected model on the entire training set.\n",
    "Using the confusion matrix and class distribution, analyze in more detail the performance of the chosen model and justify them."
   ]
  },
  {
   "cell_type": "code",
   "execution_count": 43,
   "metadata": {},
   "outputs": [
    {
     "name": "stderr",
     "output_type": "stream",
     "text": [
      "e:\\python\\lib\\site-packages\\sklearn\\neural_network\\multilayer_perceptron.py:916: DataConversionWarning: A column-vector y was passed when a 1d array was expected. Please change the shape of y to (n_samples, ), for example using ravel().\n",
      "  y = column_or_1d(y, warn=True)\n"
     ]
    }
   ],
   "source": [
    "# Train selected model\n",
    "from sklearn.neural_network import MLPClassifier\n",
    "\n",
    "selected_model = MLPClassifier()\n",
    "model = selected_model.fit(X_train,y_train_label)\n",
    "y_pred=model.predict(X_train)"
   ]
  },
  {
   "cell_type": "markdown",
   "metadata": {},
   "source": [
    "###### Confusion matrix"
   ]
  },
  {
   "cell_type": "code",
   "execution_count": 44,
   "metadata": {},
   "outputs": [
    {
     "data": {
      "text/html": [
       "<div>\n",
       "<style scoped>\n",
       "    .dataframe tbody tr th:only-of-type {\n",
       "        vertical-align: middle;\n",
       "    }\n",
       "\n",
       "    .dataframe tbody tr th {\n",
       "        vertical-align: top;\n",
       "    }\n",
       "\n",
       "    .dataframe thead th {\n",
       "        text-align: right;\n",
       "    }\n",
       "</style>\n",
       "<table border=\"1\" class=\"dataframe\">\n",
       "  <thead>\n",
       "    <tr style=\"text-align: right;\">\n",
       "      <th></th>\n",
       "      <th>Adoption</th>\n",
       "      <th>Died</th>\n",
       "      <th>Euthanasia</th>\n",
       "      <th>Return_to_owner</th>\n",
       "      <th>Transfer</th>\n",
       "    </tr>\n",
       "  </thead>\n",
       "  <tbody>\n",
       "    <tr>\n",
       "      <th>Adoption</th>\n",
       "      <td>8765</td>\n",
       "      <td>1</td>\n",
       "      <td>9</td>\n",
       "      <td>1276</td>\n",
       "      <td>718</td>\n",
       "    </tr>\n",
       "    <tr>\n",
       "      <th>Died</th>\n",
       "      <td>17</td>\n",
       "      <td>7</td>\n",
       "      <td>9</td>\n",
       "      <td>16</td>\n",
       "      <td>148</td>\n",
       "    </tr>\n",
       "    <tr>\n",
       "      <th>Euthanasia</th>\n",
       "      <td>208</td>\n",
       "      <td>0</td>\n",
       "      <td>258</td>\n",
       "      <td>358</td>\n",
       "      <td>731</td>\n",
       "    </tr>\n",
       "    <tr>\n",
       "      <th>Return_to_owner</th>\n",
       "      <td>1821</td>\n",
       "      <td>0</td>\n",
       "      <td>19</td>\n",
       "      <td>2400</td>\n",
       "      <td>546</td>\n",
       "    </tr>\n",
       "    <tr>\n",
       "      <th>Transfer</th>\n",
       "      <td>2029</td>\n",
       "      <td>3</td>\n",
       "      <td>109</td>\n",
       "      <td>831</td>\n",
       "      <td>6450</td>\n",
       "    </tr>\n",
       "  </tbody>\n",
       "</table>\n",
       "</div>"
      ],
      "text/plain": [
       "                 Adoption  Died  Euthanasia  Return_to_owner  Transfer\n",
       "Adoption             8765     1           9             1276       718\n",
       "Died                   17     7           9               16       148\n",
       "Euthanasia            208     0         258              358       731\n",
       "Return_to_owner      1821     0          19             2400       546\n",
       "Transfer             2029     3         109              831      6450"
      ]
     },
     "execution_count": 44,
     "metadata": {},
     "output_type": "execute_result"
    }
   ],
   "source": [
    "from sklearn.metrics import confusion_matrix\n",
    "pd.DataFrame(confusion_matrix(y_train_label, y_pred), columns = target_label.classes_, index = target_label.classes_)"
   ]
  },
  {
   "cell_type": "markdown",
   "metadata": {},
   "source": [
    "###### Target class distribution"
   ]
  },
  {
   "cell_type": "code",
   "execution_count": 48,
   "metadata": {},
   "outputs": [
    {
     "name": "stdout",
     "output_type": "stream",
     "text": [
      "['Adoption' 'Died' 'Euthanasia' 'Return_to_owner' 'Transfer']\n"
     ]
    },
    {
     "data": {
      "text/plain": [
       "<matplotlib.axes._subplots.AxesSubplot at 0x121c62390b8>"
      ]
     },
     "execution_count": 48,
     "metadata": {},
     "output_type": "execute_result"
    },
    {
     "data": {
      "image/png": "[encoded data removed]",
      "text/plain": [
       "<Figure size 432x288 with 1 Axes>"
      ]
     },
     "metadata": {},
     "output_type": "display_data"
    }
   ],
   "source": [
    "import matplotlib.pyplot as plt \n",
    "y_train_label=y_train_label.reshape((y_train_label.shape[0],))\n",
    "print(target_label.classes_)\n",
    "pd.Series(y_train_label).hist()"
   ]
  },
  {
   "cell_type": "code",
   "execution_count": null,
   "metadata": {},
   "outputs": [],
   "source": []
  },
  {
   "cell_type": "markdown",
   "metadata": {},
   "source": [
    "## Bonus 3: Hyper-parameters optimization (1 point)\n",
    "\n",
    "Hyper-parameters are the parameters set before the learning phase. To optimize the performance of the model, we can select the best hyper-parameters.\n",
    "\n",
    "Using sklearn, optimize the hyper-parameters of the model you have selected and show that the performance has been improved.\n",
    "For example, you can use: **GridSearchCV**\n"
   ]
  },
  {
   "cell_type": "markdown",
   "metadata": {},
   "source": [
    "Finally, make the prediction on the test set and give your results when submitting the lab.\n",
    "\n",
    "**Optional**: You can submit your results on kaggle and note your performance in terms of log loss."
   ]
  },
  {
   "cell_type": "code",
   "execution_count": null,
   "metadata": {},
   "outputs": [],
   "source": [
    "# best_model = \n",
    "# pred_test = pd.Series(best_model.transform(X_test))\n",
    "# pred_test.to_csv(\"test_prediction.csv\",index = False)"
   ]
  }
 ],
 "metadata": {
  "kernelspec": {
   "display_name": "Python 3",
   "language": "python",
   "name": "python3"
  },
  "language_info": {
   "codemirror_mode": {
    "name": "ipython",
    "version": 3
   },
   "file_extension": ".py",
   "mimetype": "text/x-python",
   "name": "python",
   "nbconvert_exporter": "python",
   "pygments_lexer": "ipython3",
   "version": "3.6.4"
  }
 },
 "nbformat": 4,
 "nbformat_minor": 2
}
